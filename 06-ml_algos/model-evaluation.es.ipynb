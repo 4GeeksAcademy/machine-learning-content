{
 "cells": [
  {
   "cell_type": "markdown",
   "id": "b2ca5ba6",
   "metadata": {},
   "source": [
    "## Evaluación de un modelo\n",
    "\n",
    "La **evaluación** de un modelo es uno de los pasos más importantes en el proceso de Machine Learning, ya que nos va a permitir saber cómo de bueno es nuestro modelo, cuánto ha aprendido de la muestra de entrenamiento (`train`) y cómo procederá para datos nunca vistos o nuevos (`test` y/o `validación`).\n",
    "\n",
    "Para evaluar un modelo existen ciertos conjuntos de métricas, que se distinguen según si un modelo permite clasificar o realizar una regresión.\n",
    "\n",
    "### Métricas para modelos de clasificación\n",
    "\n",
    "Un **modelo de clasificación** se utiliza para predecir una categoría o la clase de una observación. Por ejemplo, podríamos tener un modelo que predijese si un correo electrónico es spam (1) o no spam (0), o si una imagen contiene un perro, un gato o un pájaro. Los modelos de clasificación son útiles cuando la variable de salida es categórica.\n",
    "\n",
    "Las métricas que se pueden aplicar a este tipo de modelos son las siguientes:\n",
    "\n",
    "- **Precisión** (*accuracy*). Mide el porcentaje de predicciones que el modelo acertó con respecto al total que hizo. Por ejemplo, cuántos correos electrónicos el modelo ha conseguido clasificar bien.\n",
    "- **Sensibilidad** (*recall*). Mide la proporción de positivos reales que el modelo fue capaz de identificar. Por ejemplo, cuántos correos electrónicos que son spam reales el algoritmo ha conseguido identificar bien, quitando los que no son spam y que ha clasificado mal.\n",
    "- **Puntaje F1** (*F1 score*): Es la media de la precisión y la sensibilidad. Es útil cuando las clases están desbalanceadas.\n",
    "- **Área Bajo la Curva** (*AUC*): Describe la probabilidad de que un modelo clasifique una instancia positiva elegida al azar más alta que una negativa elegida al azar."
   ]
  },
  {
   "cell_type": "markdown",
   "id": "b83579a0",
   "metadata": {},
   "source": [
    "### Métricas para modelos de regresión\n",
    "\n",
    "Un **modelo de regresión** se utiliza para predecir un valor continuo. Por ejemplo, podríamos tener un modelo de regresión que prediga el precio de una casa basado en características como su tamaño, el número de habitaciones y su ubicación. Los modelos de regresión son útiles cuando la variable de salida es continua y numérica. \n",
    "\n",
    "Las métricas que se pueden aplicar a este tipo de modelos son las siguientes:\n",
    "\n",
    "- **Error absoluto medio** (*Mean Absolute Error, MAE*). Media de la diferencia absoluta entre las predicciones y los valores reales.\n",
    "- **Error cuadrático medio** (*Mean Squared Error, MSE*). Similar al anterior, pero eleva al cuadrado las diferencias antes de realizar la división.\n",
    "- **Error cuadrático medio de la raíz** (*Root Mean Squared Error, RMSE*). Es la raíz cuadrada del MSE.\n",
    "- **Coeficiente de determinación** ($R^2$). Proporción de variación en el objetivo que es predecible a partir de las características.\n",
    "\n",
    "El paquete `scikit-learn` permite fácilmente aplicar estas funciones a los modelos. La documentación está accesible [aquí](https://scikit-learn.org/stable/modules/model_evaluation.html#classification-metrics)."
   ]
  }
 ],
 "metadata": {
  "kernelspec": {
   "display_name": "Python 3.8.13 64-bit ('3.8.13')",
   "language": "python",
   "name": "python3"
  },
  "language_info": {
   "codemirror_mode": {
    "name": "ipython",
    "version": 3
   },
   "file_extension": ".py",
   "mimetype": "text/x-python",
   "name": "python",
   "nbconvert_exporter": "python",
   "pygments_lexer": "ipython3",
   "version": "3.11.4"
  },
  "vscode": {
   "interpreter": {
    "hash": "110cc1dee26208153f2972f08a2ad52b6a56238dc66d48e87fb757ef2996db56"
   }
  }
 },
 "nbformat": 4,
 "nbformat_minor": 5
}
