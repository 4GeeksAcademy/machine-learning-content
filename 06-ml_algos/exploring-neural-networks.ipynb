{
 "cells": [
  {
   "cell_type": "markdown",
   "metadata": {},
   "source": [
    "## RNA in Python"
   ]
  },
  {
   "cell_type": "markdown",
   "metadata": {},
   "source": [
    "Next we will see how we can implement ANN (Artificial Neural Networks) in Python. For this, we will use the `keras` library over `tensorflow` (which is the most common)."
   ]
  },
  {
   "cell_type": "markdown",
   "metadata": {},
   "source": [
    "### Classification of textual data sets\n",
    "\n",
    "We are going to use the Pima Indian diabetes onset dataset. This is a standard Machine Learning dataset from the UCI Machine Learning repository. It describes the medical record data of Pima Indian patients and whether they had an onset of diabetes within five years."
   ]
  },
  {
   "cell_type": "markdown",
   "metadata": {},
   "source": [
    "#### Step 1. Reading the processed data set"
   ]
  },
  {
   "cell_type": "code",
   "execution_count": 1,
   "metadata": {},
   "outputs": [
    {
     "data": {
      "text/html": [
       "<div>\n",
       "<style scoped>\n",
       "    .dataframe tbody tr th:only-of-type {\n",
       "        vertical-align: middle;\n",
       "    }\n",
       "\n",
       "    .dataframe tbody tr th {\n",
       "        vertical-align: top;\n",
       "    }\n",
       "\n",
       "    .dataframe thead th {\n",
       "        text-align: right;\n",
       "    }\n",
       "</style>\n",
       "<table border=\"1\" class=\"dataframe\">\n",
       "  <thead>\n",
       "    <tr style=\"text-align: right;\">\n",
       "      <th></th>\n",
       "      <th>0</th>\n",
       "      <th>1</th>\n",
       "      <th>2</th>\n",
       "      <th>3</th>\n",
       "      <th>4</th>\n",
       "      <th>5</th>\n",
       "      <th>6</th>\n",
       "      <th>7</th>\n",
       "    </tr>\n",
       "  </thead>\n",
       "  <tbody>\n",
       "    <tr>\n",
       "      <th>60</th>\n",
       "      <td>-0.547919</td>\n",
       "      <td>-1.154694</td>\n",
       "      <td>-3.572597</td>\n",
       "      <td>-1.288212</td>\n",
       "      <td>-0.692891</td>\n",
       "      <td>-4.060474</td>\n",
       "      <td>-0.507006</td>\n",
       "      <td>-1.041549</td>\n",
       "    </tr>\n",
       "    <tr>\n",
       "      <th>618</th>\n",
       "      <td>1.530847</td>\n",
       "      <td>-0.278373</td>\n",
       "      <td>0.666618</td>\n",
       "      <td>0.217261</td>\n",
       "      <td>-0.692891</td>\n",
       "      <td>-0.481351</td>\n",
       "      <td>2.446670</td>\n",
       "      <td>1.425995</td>\n",
       "    </tr>\n",
       "    <tr>\n",
       "      <th>346</th>\n",
       "      <td>-0.844885</td>\n",
       "      <td>0.566649</td>\n",
       "      <td>-1.194501</td>\n",
       "      <td>-0.096379</td>\n",
       "      <td>0.027790</td>\n",
       "      <td>-0.417892</td>\n",
       "      <td>0.550035</td>\n",
       "      <td>-0.956462</td>\n",
       "    </tr>\n",
       "    <tr>\n",
       "      <th>294</th>\n",
       "      <td>-1.141852</td>\n",
       "      <td>1.255187</td>\n",
       "      <td>-0.987710</td>\n",
       "      <td>-1.288212</td>\n",
       "      <td>-0.692891</td>\n",
       "      <td>-1.280942</td>\n",
       "      <td>-0.658012</td>\n",
       "      <td>2.702312</td>\n",
       "    </tr>\n",
       "    <tr>\n",
       "      <th>231</th>\n",
       "      <td>0.639947</td>\n",
       "      <td>0.410164</td>\n",
       "      <td>0.563223</td>\n",
       "      <td>1.032726</td>\n",
       "      <td>2.519781</td>\n",
       "      <td>1.803195</td>\n",
       "      <td>-0.706334</td>\n",
       "      <td>1.085644</td>\n",
       "    </tr>\n",
       "  </tbody>\n",
       "</table>\n",
       "</div>"
      ],
      "text/plain": [
       "            0         1         2         3         4         5         6  \\\n",
       "60  -0.547919 -1.154694 -3.572597 -1.288212 -0.692891 -4.060474 -0.507006   \n",
       "618  1.530847 -0.278373  0.666618  0.217261 -0.692891 -0.481351  2.446670   \n",
       "346 -0.844885  0.566649 -1.194501 -0.096379  0.027790 -0.417892  0.550035   \n",
       "294 -1.141852  1.255187 -0.987710 -1.288212 -0.692891 -1.280942 -0.658012   \n",
       "231  0.639947  0.410164  0.563223  1.032726  2.519781  1.803195 -0.706334   \n",
       "\n",
       "            7  \n",
       "60  -1.041549  \n",
       "618  1.425995  \n",
       "346 -0.956462  \n",
       "294  2.702312  \n",
       "231  1.085644  "
      ]
     },
     "execution_count": 1,
     "metadata": {},
     "output_type": "execute_result"
    }
   ],
   "source": [
    "import pandas as pd\n",
    "from sklearn.model_selection import train_test_split\n",
    "\n",
    "total_data = pd.read_csv(\"https://raw.githubusercontent.com/4GeeksAcademy/machine-learning-content/master/assets/clean-pima-indians-diabetes.csv\")\n",
    "\n",
    "X = total_data.drop(\"8\", axis = 1)\n",
    "y = total_data[\"8\"]\n",
    "\n",
    "X_train, X_test, y_train, y_test = train_test_split(X, y, test_size = 0.2, random_state = 42)\n",
    "\n",
    "X_train.head()"
   ]
  },
  {
   "cell_type": "markdown",
   "metadata": {},
   "source": [
    "The *train* set will be used to train the model, while the *test* set will be used to evaluate the effectiveness of the model. In addition, it is generally a good practice to normalize the data before training an artificial neural network (ANN). Two types can be applied: from 0 to 1 or from -1 to 1."
   ]
  },
  {
   "cell_type": "markdown",
   "metadata": {},
   "source": [
    "#### Step 2: Model initialization and training\n",
    "\n",
    "Models in Keras are defined as a sequence of layers. We create a sequential model and add layers one by one until we are satisfied with our network architecture.\n",
    "\n",
    "The input layer will always have as many neurons as predictor variables. In this case, we have a total of 8 (from 0 to 7). Next, we add two hidden layers, one of 12 neurons and one of 8. Finally, the fourth layer, the output layer, will have a single neuron since the problem is dichotomous. If it were of `n` classes, the network would have `n` outputs.\n",
    "\n",
    "> Note: We have created a default network with random hidden layers and neurons in each hidden layer. Normally you would start this way and then do a hyperparameter optimization."
   ]
  },
  {
   "cell_type": "code",
   "execution_count": 2,
   "metadata": {},
   "outputs": [
    {
     "name": "stderr",
     "output_type": "stream",
     "text": [
      "2023-08-07 16:30:23.463216: I tensorflow/tsl/cuda/cudart_stub.cc:28] Could not find cuda drivers on your machine, GPU will not be used.\n",
      "2023-08-07 16:30:23.491361: I tensorflow/tsl/cuda/cudart_stub.cc:28] Could not find cuda drivers on your machine, GPU will not be used.\n",
      "2023-08-07 16:30:23.491955: I tensorflow/core/platform/cpu_feature_guard.cc:182] This TensorFlow binary is optimized to use available CPU instructions in performance-critical operations.\n",
      "To enable the following instructions: AVX2 FMA, in other operations, rebuild TensorFlow with the appropriate compiler flags.\n",
      "2023-08-07 16:30:24.196569: W tensorflow/compiler/tf2tensorrt/utils/py_utils.cc:38] TF-TRT Warning: Could not find TensorRT\n"
     ]
    }
   ],
   "source": [
    "from tensorflow.keras.layers import Dense\n",
    "from tensorflow.keras.models import Sequential\n",
    "from tensorflow.keras.utils import set_random_seed\n",
    "\n",
    "set_random_seed(42)\n",
    "\n",
    "model = Sequential()\n",
    "model.add(Dense(12, input_shape = (8,), activation = \"relu\"))\n",
    "model.add(Dense(8, activation = \"relu\"))\n",
    "model.add(Dense(1, activation = \"sigmoid\"))"
   ]
  },
  {
   "cell_type": "markdown",
   "metadata": {},
   "source": [
    "Then, once the model is defined, we can compile it. The backend automatically chooses the best way to represent the network to train and make predictions to run on your hardware, such as CPU, GPU, or evenly distributed.\n",
    "\n",
    "When compiling, we must specify some additional properties required when training the network. Recall that training a network means finding the best set of weights to map inputs to outputs in our dataset."
   ]
  },
  {
   "cell_type": "code",
   "execution_count": 3,
   "metadata": {},
   "outputs": [
    {
     "data": {
      "text/plain": [
       "<keras.src.engine.sequential.Sequential at 0x7fa9cda46cd0>"
      ]
     },
     "execution_count": 3,
     "metadata": {},
     "output_type": "execute_result"
    }
   ],
   "source": [
    "model.compile(loss = \"binary_crossentropy\", optimizer = \"adam\", metrics = [\"accuracy\"])\n",
    "model"
   ]
  },
  {
   "attachments": {},
   "cell_type": "markdown",
   "metadata": {},
   "source": [
    "We will define the optimizer known as `adam`. This is a popular version of gradient descent because it is automatically tuned and gives good results on a wide range of problems. We will collect and report the classification accuracy, defined through the argument of the metrics.\n",
    "\n",
    "Training occurs in **epochs**, and each epoch is divided into **batches**.\n",
    "\n",
    "- **Epoch**: One pass through all rows of the training data set.\n",
    "- **Batch**: One or more samples considered by the model within an epoch before the weights are updated.\n",
    "\n",
    "The training process will run for a fixed number of iterations, which are the epochs. We must also set the number of rows in the data set that are considered before the model weights are updated within each epoch, which is called the batch size and is set by the `batch_size` argument.\n",
    "\n",
    "For this problem, we will run a small number of epochs (150) and use a relatively small batch size of 10:"
   ]
  },
  {
   "cell_type": "code",
   "execution_count": 4,
   "metadata": {},
   "outputs": [
    {
     "name": "stdout",
     "output_type": "stream",
     "text": [
      "Epoch 1/150\n"
     ]
    },
    {
     "name": "stdout",
     "output_type": "stream",
     "text": [
      "62/62 [==============================] - 1s 862us/step - loss: 0.7338 - accuracy: 0.4756\n",
      "Epoch 2/150\n",
      "62/62 [==============================] - 0s 775us/step - loss: 0.6790 - accuracy: 0.6173\n",
      "Epoch 3/150\n",
      "62/62 [==============================] - 0s 697us/step - loss: 0.6336 - accuracy: 0.6873\n",
      "Epoch 4/150\n",
      "62/62 [==============================] - 0s 689us/step - loss: 0.5910 - accuracy: 0.7296\n",
      "Epoch 5/150\n",
      "62/62 [==============================] - 0s 703us/step - loss: 0.5552 - accuracy: 0.7508\n",
      "Epoch 6/150\n",
      "62/62 [==============================] - 0s 683us/step - loss: 0.5276 - accuracy: 0.7541\n",
      "Epoch 7/150\n",
      "62/62 [==============================] - 0s 695us/step - loss: 0.5077 - accuracy: 0.7606\n",
      "Epoch 8/150\n",
      "62/62 [==============================] - 0s 689us/step - loss: 0.4935 - accuracy: 0.7573\n",
      "Epoch 9/150\n",
      "62/62 [==============================] - 0s 693us/step - loss: 0.4827 - accuracy: 0.7655\n",
      "Epoch 10/150\n",
      "62/62 [==============================] - 0s 671us/step - loss: 0.4748 - accuracy: 0.7720\n",
      "Epoch 11/150\n",
      "62/62 [==============================] - 0s 727us/step - loss: 0.4691 - accuracy: 0.7720\n",
      "Epoch 12/150\n",
      "62/62 [==============================] - 0s 710us/step - loss: 0.4661 - accuracy: 0.7720\n",
      "Epoch 13/150\n",
      "62/62 [==============================] - 0s 734us/step - loss: 0.4625 - accuracy: 0.7720\n",
      "Epoch 14/150\n",
      "62/62 [==============================] - 0s 721us/step - loss: 0.4587 - accuracy: 0.7785\n",
      "Epoch 15/150\n",
      "62/62 [==============================] - 0s 720us/step - loss: 0.4566 - accuracy: 0.7769\n",
      "Epoch 16/150\n",
      "62/62 [==============================] - 0s 725us/step - loss: 0.4539 - accuracy: 0.7801\n",
      "Epoch 17/150\n",
      "62/62 [==============================] - 0s 727us/step - loss: 0.4525 - accuracy: 0.7818\n",
      "Epoch 18/150\n",
      "62/62 [==============================] - 0s 723us/step - loss: 0.4507 - accuracy: 0.7818\n",
      "Epoch 19/150\n",
      "62/62 [==============================] - 0s 680us/step - loss: 0.4485 - accuracy: 0.7834\n",
      "Epoch 20/150\n",
      "62/62 [==============================] - 0s 699us/step - loss: 0.4469 - accuracy: 0.7850\n",
      "Epoch 21/150\n",
      "62/62 [==============================] - 0s 737us/step - loss: 0.4443 - accuracy: 0.7866\n",
      "Epoch 22/150\n",
      "62/62 [==============================] - 0s 735us/step - loss: 0.4428 - accuracy: 0.7866\n",
      "Epoch 23/150\n",
      "62/62 [==============================] - 0s 727us/step - loss: 0.4410 - accuracy: 0.7834\n",
      "Epoch 24/150\n",
      "62/62 [==============================] - 0s 719us/step - loss: 0.4390 - accuracy: 0.7899\n",
      "Epoch 25/150\n",
      "62/62 [==============================] - 0s 689us/step - loss: 0.4374 - accuracy: 0.7883\n",
      "Epoch 26/150\n",
      "62/62 [==============================] - 0s 712us/step - loss: 0.4370 - accuracy: 0.7899\n",
      "Epoch 27/150\n",
      "62/62 [==============================] - 0s 706us/step - loss: 0.4352 - accuracy: 0.7915\n",
      "Epoch 28/150\n",
      "62/62 [==============================] - 0s 694us/step - loss: 0.4354 - accuracy: 0.7866\n",
      "Epoch 29/150\n",
      "62/62 [==============================] - 0s 736us/step - loss: 0.4327 - accuracy: 0.7915\n",
      "Epoch 30/150\n",
      "62/62 [==============================] - 0s 745us/step - loss: 0.4314 - accuracy: 0.7915\n",
      "Epoch 31/150\n",
      "62/62 [==============================] - 0s 730us/step - loss: 0.4302 - accuracy: 0.7915\n",
      "Epoch 32/150\n",
      "62/62 [==============================] - 0s 763us/step - loss: 0.4297 - accuracy: 0.7899\n",
      "Epoch 33/150\n",
      "62/62 [==============================] - 0s 761us/step - loss: 0.4282 - accuracy: 0.7932\n",
      "Epoch 34/150\n",
      "62/62 [==============================] - 0s 734us/step - loss: 0.4269 - accuracy: 0.7964\n",
      "Epoch 35/150\n",
      "62/62 [==============================] - 0s 724us/step - loss: 0.4256 - accuracy: 0.8013\n",
      "Epoch 36/150\n",
      "62/62 [==============================] - 0s 725us/step - loss: 0.4247 - accuracy: 0.8013\n",
      "Epoch 37/150\n",
      "62/62 [==============================] - 0s 720us/step - loss: 0.4236 - accuracy: 0.7948\n",
      "Epoch 38/150\n",
      "62/62 [==============================] - 0s 710us/step - loss: 0.4225 - accuracy: 0.7948\n",
      "Epoch 39/150\n",
      "62/62 [==============================] - 0s 709us/step - loss: 0.4220 - accuracy: 0.7980\n",
      "Epoch 40/150\n",
      "62/62 [==============================] - 0s 702us/step - loss: 0.4208 - accuracy: 0.7980\n",
      "Epoch 41/150\n",
      "62/62 [==============================] - 0s 704us/step - loss: 0.4198 - accuracy: 0.7980\n",
      "Epoch 42/150\n",
      "62/62 [==============================] - 0s 700us/step - loss: 0.4196 - accuracy: 0.8029\n",
      "Epoch 43/150\n",
      "62/62 [==============================] - 0s 704us/step - loss: 0.4185 - accuracy: 0.8029\n",
      "Epoch 44/150\n",
      "62/62 [==============================] - 0s 701us/step - loss: 0.4178 - accuracy: 0.7980\n",
      "Epoch 45/150\n",
      "62/62 [==============================] - 0s 698us/step - loss: 0.4166 - accuracy: 0.7980\n",
      "Epoch 46/150\n",
      "62/62 [==============================] - 0s 693us/step - loss: 0.4164 - accuracy: 0.7948\n",
      "Epoch 47/150\n",
      "62/62 [==============================] - 0s 693us/step - loss: 0.4158 - accuracy: 0.7997\n",
      "Epoch 48/150\n",
      "62/62 [==============================] - 0s 704us/step - loss: 0.4148 - accuracy: 0.7980\n",
      "Epoch 49/150\n",
      "62/62 [==============================] - 0s 696us/step - loss: 0.4140 - accuracy: 0.8046\n",
      "Epoch 50/150\n",
      "62/62 [==============================] - 0s 693us/step - loss: 0.4129 - accuracy: 0.8029\n",
      "Epoch 51/150\n",
      "62/62 [==============================] - 0s 697us/step - loss: 0.4123 - accuracy: 0.7980\n",
      "Epoch 52/150\n",
      "62/62 [==============================] - 0s 702us/step - loss: 0.4117 - accuracy: 0.8013\n",
      "Epoch 53/150\n",
      "62/62 [==============================] - 0s 703us/step - loss: 0.4104 - accuracy: 0.8062\n",
      "Epoch 54/150\n",
      "62/62 [==============================] - 0s 716us/step - loss: 0.4087 - accuracy: 0.8078\n",
      "Epoch 55/150\n",
      "62/62 [==============================] - 0s 720us/step - loss: 0.4093 - accuracy: 0.8094\n",
      "Epoch 56/150\n",
      "62/62 [==============================] - 0s 743us/step - loss: 0.4082 - accuracy: 0.8046\n",
      "Epoch 57/150\n",
      "62/62 [==============================] - 0s 730us/step - loss: 0.4070 - accuracy: 0.8094\n",
      "Epoch 58/150\n",
      "62/62 [==============================] - 0s 724us/step - loss: 0.4061 - accuracy: 0.8062\n",
      "Epoch 59/150\n",
      "62/62 [==============================] - 0s 730us/step - loss: 0.4055 - accuracy: 0.8127\n",
      "Epoch 60/150\n",
      "62/62 [==============================] - 0s 697us/step - loss: 0.4054 - accuracy: 0.8111\n",
      "Epoch 61/150\n",
      "62/62 [==============================] - 0s 716us/step - loss: 0.4048 - accuracy: 0.8127\n",
      "Epoch 62/150\n",
      "62/62 [==============================] - 0s 696us/step - loss: 0.4031 - accuracy: 0.8111\n",
      "Epoch 63/150\n",
      "62/62 [==============================] - 0s 738us/step - loss: 0.4021 - accuracy: 0.8111\n",
      "Epoch 64/150\n",
      "62/62 [==============================] - 0s 721us/step - loss: 0.4017 - accuracy: 0.8127\n",
      "Epoch 65/150\n",
      "62/62 [==============================] - 0s 727us/step - loss: 0.4015 - accuracy: 0.8143\n",
      "Epoch 66/150\n",
      "62/62 [==============================] - 0s 691us/step - loss: 0.4011 - accuracy: 0.8078\n",
      "Epoch 67/150\n",
      "62/62 [==============================] - 0s 700us/step - loss: 0.3993 - accuracy: 0.8094\n",
      "Epoch 68/150\n",
      "62/62 [==============================] - 0s 725us/step - loss: 0.3992 - accuracy: 0.8192\n",
      "Epoch 69/150\n",
      "62/62 [==============================] - 0s 721us/step - loss: 0.3973 - accuracy: 0.8192\n",
      "Epoch 70/150\n",
      "62/62 [==============================] - 0s 729us/step - loss: 0.3972 - accuracy: 0.8192\n",
      "Epoch 71/150\n",
      "62/62 [==============================] - 0s 715us/step - loss: 0.3966 - accuracy: 0.8111\n",
      "Epoch 72/150\n",
      "62/62 [==============================] - 0s 689us/step - loss: 0.3955 - accuracy: 0.8192\n",
      "Epoch 73/150\n",
      "62/62 [==============================] - 0s 691us/step - loss: 0.3962 - accuracy: 0.8062\n",
      "Epoch 74/150\n",
      "62/62 [==============================] - 0s 694us/step - loss: 0.3949 - accuracy: 0.8160\n",
      "Epoch 75/150\n",
      "62/62 [==============================] - 0s 697us/step - loss: 0.3937 - accuracy: 0.8241\n",
      "Epoch 76/150\n",
      "62/62 [==============================] - 0s 692us/step - loss: 0.3945 - accuracy: 0.8208\n",
      "Epoch 77/150\n",
      "62/62 [==============================] - 0s 733us/step - loss: 0.3941 - accuracy: 0.8176\n",
      "Epoch 78/150\n",
      "62/62 [==============================] - 0s 705us/step - loss: 0.3932 - accuracy: 0.8176\n",
      "Epoch 79/150\n",
      "62/62 [==============================] - 0s 688us/step - loss: 0.3915 - accuracy: 0.8208\n",
      "Epoch 80/150\n",
      "62/62 [==============================] - 0s 685us/step - loss: 0.3903 - accuracy: 0.8176\n",
      "Epoch 81/150\n",
      "62/62 [==============================] - 0s 682us/step - loss: 0.3906 - accuracy: 0.8062\n",
      "Epoch 82/150\n",
      "62/62 [==============================] - 0s 701us/step - loss: 0.3899 - accuracy: 0.8241\n",
      "Epoch 83/150\n",
      "62/62 [==============================] - 0s 682us/step - loss: 0.3890 - accuracy: 0.8160\n",
      "Epoch 84/150\n",
      "62/62 [==============================] - 0s 719us/step - loss: 0.3879 - accuracy: 0.8257\n",
      "Epoch 85/150\n",
      "62/62 [==============================] - 0s 735us/step - loss: 0.3871 - accuracy: 0.8290\n",
      "Epoch 86/150\n",
      "62/62 [==============================] - 0s 735us/step - loss: 0.3858 - accuracy: 0.8257\n",
      "Epoch 87/150\n",
      "62/62 [==============================] - 0s 740us/step - loss: 0.3857 - accuracy: 0.8306\n",
      "Epoch 88/150\n",
      "62/62 [==============================] - 0s 701us/step - loss: 0.3858 - accuracy: 0.8257\n",
      "Epoch 89/150\n",
      "62/62 [==============================] - 0s 706us/step - loss: 0.3839 - accuracy: 0.8274\n",
      "Epoch 90/150\n",
      "62/62 [==============================] - 0s 723us/step - loss: 0.3857 - accuracy: 0.8225\n",
      "Epoch 91/150\n",
      "62/62 [==============================] - 0s 731us/step - loss: 0.3852 - accuracy: 0.8241\n",
      "Epoch 92/150\n",
      "62/62 [==============================] - 0s 693us/step - loss: 0.3837 - accuracy: 0.8290\n",
      "Epoch 93/150\n",
      "62/62 [==============================] - 0s 694us/step - loss: 0.3828 - accuracy: 0.8274\n",
      "Epoch 94/150\n",
      "62/62 [==============================] - 0s 693us/step - loss: 0.3821 - accuracy: 0.8290\n",
      "Epoch 95/150\n",
      "62/62 [==============================] - 0s 697us/step - loss: 0.3815 - accuracy: 0.8322\n",
      "Epoch 96/150\n",
      "62/62 [==============================] - 0s 693us/step - loss: 0.3815 - accuracy: 0.8322\n",
      "Epoch 97/150\n",
      "62/62 [==============================] - 0s 711us/step - loss: 0.3811 - accuracy: 0.8274\n",
      "Epoch 98/150\n",
      "62/62 [==============================] - 0s 729us/step - loss: 0.3815 - accuracy: 0.8306\n",
      "Epoch 99/150\n",
      "62/62 [==============================] - 0s 701us/step - loss: 0.3798 - accuracy: 0.8274\n",
      "Epoch 100/150\n",
      "62/62 [==============================] - 0s 683us/step - loss: 0.3802 - accuracy: 0.8339\n",
      "Epoch 101/150\n",
      "62/62 [==============================] - 0s 713us/step - loss: 0.3783 - accuracy: 0.8322\n",
      "Epoch 102/150\n",
      "62/62 [==============================] - 0s 718us/step - loss: 0.3797 - accuracy: 0.8306\n",
      "Epoch 103/150\n",
      "62/62 [==============================] - 0s 763us/step - loss: 0.3795 - accuracy: 0.8257\n",
      "Epoch 104/150\n",
      "62/62 [==============================] - 0s 741us/step - loss: 0.3783 - accuracy: 0.8322\n",
      "Epoch 105/150\n",
      "62/62 [==============================] - 0s 722us/step - loss: 0.3777 - accuracy: 0.8306\n",
      "Epoch 106/150\n",
      "62/62 [==============================] - 0s 704us/step - loss: 0.3778 - accuracy: 0.8290\n",
      "Epoch 107/150\n",
      "62/62 [==============================] - 0s 700us/step - loss: 0.3764 - accuracy: 0.8290\n",
      "Epoch 108/150\n",
      "62/62 [==============================] - 0s 728us/step - loss: 0.3766 - accuracy: 0.8306\n",
      "Epoch 109/150\n",
      "62/62 [==============================] - 0s 694us/step - loss: 0.3767 - accuracy: 0.8290\n",
      "Epoch 110/150\n",
      "62/62 [==============================] - 0s 690us/step - loss: 0.3770 - accuracy: 0.8290\n",
      "Epoch 111/150\n",
      "62/62 [==============================] - 0s 692us/step - loss: 0.3764 - accuracy: 0.8257\n",
      "Epoch 112/150\n",
      "62/62 [==============================] - 0s 691us/step - loss: 0.3746 - accuracy: 0.8290\n",
      "Epoch 113/150\n",
      "62/62 [==============================] - 0s 720us/step - loss: 0.3742 - accuracy: 0.8290\n",
      "Epoch 114/150\n",
      "62/62 [==============================] - 0s 738us/step - loss: 0.3744 - accuracy: 0.8322\n",
      "Epoch 115/150\n",
      "62/62 [==============================] - 0s 731us/step - loss: 0.3741 - accuracy: 0.8339\n",
      "Epoch 116/150\n",
      "62/62 [==============================] - 0s 741us/step - loss: 0.3728 - accuracy: 0.8339\n",
      "Epoch 117/150\n",
      "62/62 [==============================] - 0s 685us/step - loss: 0.3730 - accuracy: 0.8339\n",
      "Epoch 118/150\n",
      "62/62 [==============================] - 0s 704us/step - loss: 0.3711 - accuracy: 0.8355\n",
      "Epoch 119/150\n",
      "62/62 [==============================] - 0s 703us/step - loss: 0.3717 - accuracy: 0.8355\n",
      "Epoch 120/150\n",
      "62/62 [==============================] - 0s 748us/step - loss: 0.3710 - accuracy: 0.8339\n",
      "Epoch 121/150\n",
      "62/62 [==============================] - 0s 735us/step - loss: 0.3710 - accuracy: 0.8355\n",
      "Epoch 122/150\n",
      "62/62 [==============================] - 0s 745us/step - loss: 0.3706 - accuracy: 0.8388\n",
      "Epoch 123/150\n",
      "62/62 [==============================] - 0s 690us/step - loss: 0.3695 - accuracy: 0.8371\n",
      "Epoch 124/150\n",
      "62/62 [==============================] - 0s 710us/step - loss: 0.3711 - accuracy: 0.8388\n",
      "Epoch 125/150\n",
      "62/62 [==============================] - 0s 693us/step - loss: 0.3698 - accuracy: 0.8355\n",
      "Epoch 126/150\n",
      "62/62 [==============================] - 0s 697us/step - loss: 0.3683 - accuracy: 0.8339\n",
      "Epoch 127/150\n",
      "62/62 [==============================] - 0s 690us/step - loss: 0.3675 - accuracy: 0.8388\n",
      "Epoch 128/150\n",
      "62/62 [==============================] - 0s 716us/step - loss: 0.3689 - accuracy: 0.8371\n",
      "Epoch 129/150\n",
      "62/62 [==============================] - 0s 700us/step - loss: 0.3675 - accuracy: 0.8339\n",
      "Epoch 130/150\n",
      "62/62 [==============================] - 0s 727us/step - loss: 0.3664 - accuracy: 0.8339\n",
      "Epoch 131/150\n",
      "62/62 [==============================] - 0s 740us/step - loss: 0.3663 - accuracy: 0.8355\n",
      "Epoch 132/150\n",
      "62/62 [==============================] - 0s 733us/step - loss: 0.3658 - accuracy: 0.8274\n",
      "Epoch 133/150\n",
      "62/62 [==============================] - 0s 724us/step - loss: 0.3663 - accuracy: 0.8371\n",
      "Epoch 134/150\n",
      "62/62 [==============================] - 0s 697us/step - loss: 0.3674 - accuracy: 0.8355\n",
      "Epoch 135/150\n",
      "62/62 [==============================] - 0s 718us/step - loss: 0.3645 - accuracy: 0.8420\n",
      "Epoch 136/150\n",
      "62/62 [==============================] - 0s 693us/step - loss: 0.3643 - accuracy: 0.8355\n",
      "Epoch 137/150\n",
      "62/62 [==============================] - 0s 709us/step - loss: 0.3646 - accuracy: 0.8339\n",
      "Epoch 138/150\n",
      "62/62 [==============================] - 0s 694us/step - loss: 0.3642 - accuracy: 0.8355\n",
      "Epoch 139/150\n",
      "62/62 [==============================] - 0s 684us/step - loss: 0.3636 - accuracy: 0.8388\n",
      "Epoch 140/150\n",
      "62/62 [==============================] - 0s 715us/step - loss: 0.3630 - accuracy: 0.8371\n",
      "Epoch 141/150\n",
      "62/62 [==============================] - 0s 714us/step - loss: 0.3640 - accuracy: 0.8322\n",
      "Epoch 142/150\n",
      "62/62 [==============================] - 0s 711us/step - loss: 0.3619 - accuracy: 0.8371\n",
      "Epoch 143/150\n",
      "62/62 [==============================] - 0s 701us/step - loss: 0.3606 - accuracy: 0.8355\n",
      "Epoch 144/150\n",
      "62/62 [==============================] - 0s 694us/step - loss: 0.3610 - accuracy: 0.8371\n",
      "Epoch 145/150\n",
      "62/62 [==============================] - 0s 691us/step - loss: 0.3609 - accuracy: 0.8404\n",
      "Epoch 146/150\n",
      "62/62 [==============================] - 0s 720us/step - loss: 0.3626 - accuracy: 0.8355\n",
      "Epoch 147/150\n",
      "62/62 [==============================] - 0s 691us/step - loss: 0.3615 - accuracy: 0.8355\n",
      "Epoch 148/150\n",
      "62/62 [==============================] - 0s 688us/step - loss: 0.3584 - accuracy: 0.8420\n",
      "Epoch 149/150\n",
      "62/62 [==============================] - 0s 695us/step - loss: 0.3592 - accuracy: 0.8371\n",
      "Epoch 150/150\n",
      "62/62 [==============================] - 0s 722us/step - loss: 0.3576 - accuracy: 0.8420\n"
     ]
    },
    {
     "data": {
      "text/plain": [
       "<keras.src.callbacks.History at 0x7fa9cd1d0b50>"
      ]
     },
     "execution_count": 4,
     "metadata": {},
     "output_type": "execute_result"
    }
   ],
   "source": [
    "# Fit the keras model on the data set\n",
    "model.fit(X_train, y_train, epochs = 150, batch_size = 10)"
   ]
  },
  {
   "cell_type": "code",
   "execution_count": 5,
   "metadata": {},
   "outputs": [
    {
     "name": "stdout",
     "output_type": "stream",
     "text": [
      "20/20 [==============================] - 0s 742us/step - loss: 0.3535 - accuracy: 0.8420\n",
      "Accuracy: 0.8420195579528809\n"
     ]
    }
   ],
   "source": [
    "_, accuracy = model.evaluate(X_train, y_train)\n",
    "\n",
    "print(f\"Accuracy: {accuracy}\")"
   ]
  },
  {
   "cell_type": "markdown",
   "metadata": {},
   "source": [
    "The training time of a model will depend, first of all, on the size of the dataset (instances and features), and also on the type of model and its configuration.\n",
    "\n",
    "The accuracy of the training set is `84.20%`.\n",
    "\n",
    "#### Step 3: Model prediction"
   ]
  },
  {
   "cell_type": "code",
   "execution_count": 6,
   "metadata": {},
   "outputs": [
    {
     "name": "stdout",
     "output_type": "stream",
     "text": [
      "5/5 [==============================] - 0s 797us/step\n"
     ]
    },
    {
     "data": {
      "text/plain": [
       "array([[2.6933843e-01],\n",
       "       [5.7993677e-02],\n",
       "       [7.6992743e-02],\n",
       "       [4.8524177e-01],\n",
       "       [3.1675667e-01],\n",
       "       [6.4265609e-01],\n",
       "       [7.3388085e-04],\n",
       "       [2.8476545e-01],\n",
       "       [8.7694836e-01],\n",
       "       [4.1469648e-01],\n",
       "       [1.6080230e-01],\n",
       "       [8.2213795e-01],\n",
       "       [2.1518065e-01],\n",
       "       [5.3527528e-01],\n",
       "       [1.2730679e-01]], dtype=float32)"
      ]
     },
     "execution_count": 6,
     "metadata": {},
     "output_type": "execute_result"
    }
   ],
   "source": [
    "y_pred = model.predict(X_test)\n",
    "y_pred[:15]"
   ]
  },
  {
   "cell_type": "markdown",
   "metadata": {},
   "source": [
    "As we can see, the model does not return the classes `0` and `1` directly, but requires a previous preprocessing:"
   ]
  },
  {
   "cell_type": "code",
   "execution_count": 7,
   "metadata": {},
   "outputs": [
    {
     "data": {
      "text/plain": [
       "[0, 0, 0, 0, 0, 1, 0, 0, 1, 0, 0, 1, 0, 1, 0]"
      ]
     },
     "execution_count": 7,
     "metadata": {},
     "output_type": "execute_result"
    }
   ],
   "source": [
    "y_pred_round = [round(x[0]) for x in y_pred]\n",
    "y_pred_round[:15]"
   ]
  },
  {
   "cell_type": "markdown",
   "metadata": {},
   "source": [
    "With raw data, it is very difficult to know whether the model is getting it right or not. To do this, we must compare it with reality. There are many metrics to measure the effectiveness of a model in predicting, including **accuracy**, which is the fraction of predictions that the model makes correctly."
   ]
  },
  {
   "cell_type": "code",
   "execution_count": 8,
   "metadata": {},
   "outputs": [
    {
     "data": {
      "text/plain": [
       "0.7272727272727273"
      ]
     },
     "execution_count": 8,
     "metadata": {},
     "output_type": "execute_result"
    }
   ],
   "source": [
    "from sklearn.metrics import accuracy_score\n",
    "\n",
    "accuracy_score(y_test, y_pred_round)"
   ]
  },
  {
   "cell_type": "markdown",
   "metadata": {},
   "source": [
    "#### Step 4: Saving the model\n",
    "\n",
    "Once we have the model we were looking for (presumably after hyperparameter optimization), to be able to use it in the future it is necessary to store it in our directory."
   ]
  },
  {
   "cell_type": "code",
   "execution_count": 9,
   "metadata": {},
   "outputs": [],
   "source": [
    "model.save(\"keras_8-12-8-1_42.keras\")"
   ]
  },
  {
   "cell_type": "markdown",
   "metadata": {},
   "source": [
    "Adding an explanatory name to the model is vital, since in the case of losing the code that has generated it we will know what architecture it has (in this case we say `8-12-8-1` because it has 8 neurons in the input layer, 12 and 8 in the two hidden layers and one neuron in the output layer) and also the seed to replicate the random components of the model, which in this case we do by adding a number to the file name, `42`."
   ]
  },
  {
   "cell_type": "markdown",
   "metadata": {},
   "source": [
    "### Image set classification\n",
    "\n",
    "The following is a simple example of how to train a neural network to classify images from the MNIST dataset. MNIST is a dataset of images of handwritten digits, from 0 to 9."
   ]
  },
  {
   "cell_type": "markdown",
   "metadata": {},
   "source": [
    "#### Step 1. Reading the data set"
   ]
  },
  {
   "cell_type": "code",
   "execution_count": 10,
   "metadata": {},
   "outputs": [],
   "source": [
    "from tensorflow.keras.datasets import mnist\n",
    "\n",
    "(X_train, y_train), (X_test, y_test) = mnist.load_data()\n",
    "\n",
    "# Normalize the data (transform pixel values from 0-255 to 0-1)\n",
    "X_train, X_test = X_train / 255.0, X_test / 255.0"
   ]
  },
  {
   "cell_type": "markdown",
   "metadata": {},
   "source": [
    "The pixel values of the images are normalized to be in the range 0 to 1 instead of 0 to 255."
   ]
  },
  {
   "cell_type": "markdown",
   "metadata": {},
   "source": [
    "#### Step 2: Model initialization and training\n",
    "\n",
    "The architecture of the neural network is defined. In this case, we are using a simple sequential model with a flattening layer that transforms 2D images into 1D vectors, a dense layer with 128 neurons, and an output layer with 10 neurons.\n",
    "\n",
    "An alternative way to create an ANN to the above is provided below. Both are valid:"
   ]
  },
  {
   "cell_type": "code",
   "execution_count": 11,
   "metadata": {},
   "outputs": [],
   "source": [
    "from tensorflow.keras.layers import Flatten\n",
    "\n",
    "set_random_seed(42)\n",
    "\n",
    "model = Sequential([\n",
    "  # Layer that flattens the 28x28 pixel input image to a vector of 784 elements\n",
    "  Flatten(input_shape = (28, 28)),\n",
    "  # Dense hidden layer with 128 neurons and ReLU activation function\n",
    "  Dense(128, activation = \"relu\"),\n",
    "  # Output layer with 10 neurons (one for each digit from 0 to 9)\n",
    "  Dense(10)\n",
    "])"
   ]
  },
  {
   "cell_type": "markdown",
   "metadata": {},
   "source": [
    "We also added the network compiler to define the optimizer and the loss function, as we did before:"
   ]
  },
  {
   "cell_type": "code",
   "execution_count": 12,
   "metadata": {},
   "outputs": [],
   "source": [
    "from tensorflow.keras.losses import SparseCategoricalCrossentropy\n",
    "\n",
    "model.compile(optimizer = \"adam\", loss = SparseCategoricalCrossentropy(from_logits = True), metrics = [\"accuracy\"])"
   ]
  },
  {
   "cell_type": "markdown",
   "metadata": {},
   "source": [
    "The model is trained on the training set for a certain number of epochs. When working with images, it is less common to use the `batch_size` parameter:"
   ]
  },
  {
   "cell_type": "code",
   "execution_count": 13,
   "metadata": {},
   "outputs": [
    {
     "name": "stdout",
     "output_type": "stream",
     "text": [
      "Epoch 1/5\n",
      "1875/1875 [==============================] - 2s 1ms/step - loss: 0.2530 - accuracy: 0.9276\n",
      "Epoch 2/5\n",
      "1875/1875 [==============================] - 2s 1ms/step - loss: 0.1111 - accuracy: 0.9671\n",
      "Epoch 3/5\n",
      "1875/1875 [==============================] - 2s 1ms/step - loss: 0.0759 - accuracy: 0.9757\n",
      "Epoch 4/5\n",
      "1875/1875 [==============================] - 2s 1ms/step - loss: 0.0566 - accuracy: 0.9831\n",
      "Epoch 5/5\n",
      "1875/1875 [==============================] - 2s 1ms/step - loss: 0.0432 - accuracy: 0.9865\n"
     ]
    },
    {
     "data": {
      "text/plain": [
       "<keras.src.callbacks.History at 0x7fa9704ed010>"
      ]
     },
     "execution_count": 13,
     "metadata": {},
     "output_type": "execute_result"
    }
   ],
   "source": [
    "model.fit(X_train, y_train, epochs = 5)"
   ]
  },
  {
   "cell_type": "code",
   "execution_count": 14,
   "metadata": {},
   "outputs": [
    {
     "name": "stdout",
     "output_type": "stream",
     "text": [
      "1875/1875 [==============================] - 1s 669us/step - loss: 0.0441 - accuracy: 0.9858\n",
      "Accuracy: 0.9858166575431824\n"
     ]
    }
   ],
   "source": [
    "_, accuracy = model.evaluate(X_train, y_train)\n",
    "\n",
    "print(f\"Accuracy: {accuracy}\")"
   ]
  },
  {
   "cell_type": "markdown",
   "metadata": {},
   "source": [
    "The training time of a model will depend, first of all, on the size of the dataset (instances and features), and also on the type of model and its configuration.\n",
    "\n",
    "#### Step 3: Model prediction"
   ]
  },
  {
   "cell_type": "code",
   "execution_count": 15,
   "metadata": {},
   "outputs": [
    {
     "name": "stdout",
     "output_type": "stream",
     "text": [
      "313/313 - 0s - loss: 0.0841 - accuracy: 0.9751 - 271ms/epoch - 867us/step\n",
      "\n",
      "Test accuracy: 0.9750999808311462\n"
     ]
    }
   ],
   "source": [
    "test_loss, test_acc = model.evaluate(X_test,  y_test, verbose=2)\n",
    "\n",
    "print('\\nTest accuracy:', test_acc)"
   ]
  },
  {
   "cell_type": "markdown",
   "metadata": {},
   "source": [
    "#### Step 4: Saving the model\n",
    "\n",
    "Once we have the model we were looking for (presumably after hyperparameter optimization), to be able to use it in the future, it is necessary to store it in our directory."
   ]
  },
  {
   "cell_type": "code",
   "execution_count": 16,
   "metadata": {},
   "outputs": [],
   "source": [
    "model.save(\"keras_28x28-128-10_42.keras\")"
   ]
  },
  {
   "cell_type": "markdown",
   "metadata": {},
   "source": [
    "Adding an explanatory name to the model is vital, since in the case of losing the code that has generated it we will know what architecture it has (in this case we say `28x28-128-10` because it has an input layer of 28 x 28 pixels, 128 neurons in the only hidden layer it has, and 10 neurons in the output layer) and also the seed to replicate the random components of the model, which in this case we do by adding a number to the file name, `42`."
   ]
  }
 ],
 "metadata": {
  "kernelspec": {
   "display_name": "Python 3.8.13 64-bit ('3.8.13')",
   "language": "python",
   "name": "python3"
  },
  "language_info": {
   "codemirror_mode": {
    "name": "ipython",
    "version": 3
   },
   "file_extension": ".py",
   "mimetype": "text/x-python",
   "name": "python",
   "nbconvert_exporter": "python",
   "pygments_lexer": "ipython3",
   "version": "3.11.4"
  },
  "orig_nbformat": 4,
  "vscode": {
   "interpreter": {
    "hash": "110cc1dee26208153f2972f08a2ad52b6a56238dc66d48e87fb757ef2996db56"
   }
  }
 },
 "nbformat": 4,
 "nbformat_minor": 2
}
