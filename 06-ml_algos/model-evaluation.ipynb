{
 "cells": [
  {
   "cell_type": "markdown",
   "id": "b2ca5ba6",
   "metadata": {},
   "source": [
    "## Evaluation of a model\n",
    "\n",
    "The **evaluation** of a model is one of the most important steps in the Machine Learning process, since it will let us know how good our model is, how much it has learned from the training sample (`train`) and how it will perform for never-before-seen or new data (`test` and/or `validation`).\n",
    "\n",
    "To evaluate a model, there are certain sets of metrics that are distinguished according to whether a model allows classification or regression.\n",
    "\n",
    "### Metrics for classification models\n",
    "\n",
    "A **classification model** is used to predict a category or the class of an observation. For example, we might have a model that predicts whether an email is spam (1) or not spam (0), or whether an image contains a dog, a cat, or a bird. Classification models are useful when the output variable is categorical.\n",
    "\n",
    "Metrics that can be applied to these types of models are as follows:\n",
    "\n",
    "- **Accuracy**. Measures the percentage of predictions that the model got right with respect to the total it made. For example, how many emails did the model manage to classify well?\n",
    "- **Recall**. Measures the proportion of true positives that the model was able to identify. For example, how many emails that are actual spam did the algorithm manage to identify well, removing the non-spam emails that it misclassified?\n",
    "- **F1 score**: This is the average of precision and recall. It is useful when classes are unbalanced.\n",
    "- **Area Under the Curve** (*AUC*): Describes the probability that a model classifies a randomly chosen positive instance higher than a randomly chosen negative one."
   ]
  },
  {
   "cell_type": "markdown",
   "id": "b83579a0",
   "metadata": {},
   "source": [
    "### Metrics for Regression Models\n",
    "\n",
    "A **regression model** is used to predict a continuous value. For example, we might have a regression model that predicts the price of a house based on characteristics such as its size, number of bedrooms, and location. Regression models are useful when the output variable is continuous and numeric. \n",
    "\n",
    "Metrics that can be applied to this type of model are as follows:\n",
    "\n",
    "- **Mean Absolute Error** (*MAE*). Mean absolute difference between predictions and actual values.\n",
    "- **Mean Squared Error** (*MSE*). Similar to above, but squares the differences before performing the division.\n",
    "- **Root Mean Squared Error** (*RMSE*). It is the square root of the MSE.\n",
    "- **Coefficient of determination** ($R^2$). Proportion of variation in the target that is predictable from the characteristics.\n",
    "\n",
    "The `scikit-learn` package makes it easy to apply these functions to models. The documentation is available [here](https://scikit-learn.org/stable/modules/model_evaluation.html#classification-metrics)."
   ]
  }
 ],
 "metadata": {
  "kernelspec": {
   "display_name": "Python 3.8.13 64-bit ('3.8.13')",
   "language": "python",
   "name": "python3"
  },
  "language_info": {
   "codemirror_mode": {
    "name": "ipython",
    "version": 3
   },
   "file_extension": ".py",
   "mimetype": "text/x-python",
   "name": "python",
   "nbconvert_exporter": "python",
   "pygments_lexer": "ipython3",
   "version": "3.11.4"
  },
  "vscode": {
   "interpreter": {
    "hash": "110cc1dee26208153f2972f08a2ad52b6a56238dc66d48e87fb757ef2996db56"
   }
  }
 },
 "nbformat": 4,
 "nbformat_minor": 5
}
