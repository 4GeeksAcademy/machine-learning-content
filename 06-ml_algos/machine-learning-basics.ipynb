{
 "cells": [
  {
   "cell_type": "markdown",
   "id": "0ba5536c",
   "metadata": {},
   "source": [
    "## Introduction to Machine Learning\n",
    "\n",
    "### Definition\n",
    "\n",
    "**Machine Learning** is a branch of Artificial Intelligence that focuses on building systems that can learn from data, rather than just following explicitly programmed rules.\n",
    "\n",
    "Machine Learning systems use algorithms to analyze data, learn from it and then make predictions, rather than being programmed specifically to perform the task. For example, a Machine Learning model could be trained to recognize cats by being provided with thousands of images with and without cats. Given enough examples, the system \"learns\" to distinguish the defining characteristics of a cat, so it can identify them in new images it has never seen before."
   ]
  },
  {
   "cell_type": "markdown",
   "id": "a43f19bc",
   "metadata": {},
   "source": [
    "### Types of learning\n",
    "\n",
    "Depending on how the model can learn from the data, there are several types of learning:\n",
    "\n",
    "#### Supervised learning\n",
    "\n",
    "Models are trained on a labeled dataset. A labeled dataset is a dataset that contains both the input data and the correct answers, also known as labels or target values.\n",
    "\n",
    "The goal of supervised learning is to learn a function that transforms the inputs into outputs. Depending on the type of output we want the model to be able to generate, we can divide models into several types:\n",
    "\n",
    "- **Regression**. When the label or target value is a continuous number (such as the price of a house), the problem is considered a regression problem. The model must return a number on an infinite scale.\n",
    "- **Classification**. When the label is categorical (such as predicting whether an email is spam or not), the problem is a classification problem. The model must return a label according to whether it corresponds to one class or another.\n",
    "\n",
    "Some examples of models based on this type of learning are:\n",
    "\n",
    "- Logistic and linear regression.\n",
    "- Decision trees.\n",
    "- Naive Bayes classifier.\n",
    "- Support Vector Machines."
   ]
  },
  {
   "cell_type": "markdown",
   "id": "1e220d4d",
   "metadata": {},
   "source": [
    "#### Unsupervised learning\n",
    "\n",
    "In this type of learning, as opposed to the previous one, models are trained using an unlabeled data set. In this type of learning, the objective is to find hidden patterns or structures in the data.\n",
    "\n",
    "Since in this type of learning there are no labels, the models must discover the relationships in the data by themselves.\n",
    "\n",
    "Some examples of models based on this type of learning are:\n",
    "\n",
    "- Clustering.\n",
    "- Dimensionality reduction."
   ]
  },
  {
   "cell_type": "markdown",
   "id": "c4e18bb2",
   "metadata": {},
   "source": [
    "### Reinforcement learning\n",
    "\n",
    "In this learning, the model (also called agent) learns to make optimal decisions through interaction with its environment. The goal is to maximize some notion of cumulative reward.\n",
    "\n",
    "In reinforcement learning, the agent takes actions, which affect the state of the environment, and receives feedback in the form of rewards or penalties. The goal is to learn a strategy to maximize its long-term reward.\n",
    "\n",
    "An example of this type of learning is a program that learns to play chess. The agent (the program) decides what move to make (the actions of moving pieces) in different positions on the chess board (the states) to maximize the chance of winning the game (the reward).\n",
    "\n",
    "This type of learning is different from the previous two. Instead of learning from a set of data with or without labels, reinforcement learning is focused on making optimal decisions and learning from the feedback of those decisions."
   ]
  },
  {
   "cell_type": "markdown",
   "id": "4431debe",
   "metadata": {},
   "source": [
    "### Data sets\n",
    "\n",
    "Data is a fundamental building block in any Machine Learning algorithm. Without them, regardless of the type of learning or model, there is no way to start any learning process.\n",
    "\n",
    "A dataset is a collection that is usually represented in the form of a table. In this table, each row represents an observation or instance, and each column represents a characteristic, attribute or variable of that observation. This data set is used to train and evaluate models:\n",
    "\n",
    "1. **Model training**. A Machine Learning model learns from a training data set. The model trains by adjusting its parameters internally.\n",
    "2. **Model evaluation**. Once the model has been trained, an independent test dataset is used to evaluate its performance. This dataset contains observations that were not used during training, allowing an unbiased assessment of how the model is expected to make predictions on new data.\n",
    "\n",
    "In some situations, a validation set is also used, which is used to evaluate the performance of a model during training. Once models are trained, they are evaluated on the validation set to select the best possible model."
   ]
  },
  {
   "cell_type": "markdown",
   "id": "aed149af",
   "metadata": {},
   "source": [
    "#### Division of the dataset\n",
    "\n",
    "The preliminary step of training a model, in addition to EDA, is to divide the data into a training dataset (`train dataset`) and a test dataset (`test dataset`), in a procedure like the following:\n",
    "\n",
    "1. Make sure your data is organized in an acceptable format. If we are working with text files, they should be in table format, and if we are working with images, the actual documents themselves.\n",
    "2. Divide the data set into two parts: a training set and a test set. We will randomly select 80% (may vary) of the rows and place them in the training set, with the remaining 20% in the test set. In addition, we must divide the predictors of the classes, forming 4 elements: `X_train`, `y_train`, `X_test`, `y_test`.\n",
    "3. Train the model using the training set (`X_train`, `y_train`).\n",
    "4. Test the model using the test set (`X_test`, `y_test`).\n",
    "\n",
    "![train and test sets, diagram](https://github.com/4GeeksAcademy/machine-learning-content/blob/master/assets/train_test_split.jpg?raw=true)"
   ]
  },
  {
   "cell_type": "code",
   "execution_count": 1,
   "id": "b7d162db",
   "metadata": {},
   "outputs": [],
   "source": [
    "import seaborn as sns\n",
    "from sklearn.model_selection import train_test_split\n",
    "\n",
    "# We load the data set\n",
    "total_data = sns.load_dataset(\"attention\")\n",
    "\n",
    "features = [\"subject\", \"attention\", \"solutions\"]\n",
    "target = \"score\"\n",
    "\n",
    "# We separate the predictors from the label\n",
    "X = total_data[features]\n",
    "y = total_data[target]\n",
    "\n",
    "# We divide the sample into train and test at 80%\n",
    "X_train, X_test, y_train, y_test = train_test_split(X, y, random_state = 42, train_size = 0.80)"
   ]
  },
  {
   "cell_type": "markdown",
   "id": "a67e3c67",
   "metadata": {},
   "source": [
    "### Model overfitting\n",
    "\n",
    "**Overfitting** occurs when the model is trained with a lot of data. When a model is trained with so much data, it starts to learn from noise and inaccurate data inputs from our dataset. Because of this, the model does not return an accurate output. Combating overfitting is an iterative and experience-derived task for the developer, and we can start with:\n",
    "\n",
    "- Performing a correct EDA, selecting meaningful values and variables for the model following the \"less is more\" rule.\n",
    "- Simplifying or changing the model we are using.\n",
    "- Use more or less training data.\n",
    "\n",
    "Detecting whether the model is overfitting the data is also a science, and we can determine this if the model metric in the training data set is very high, and the metric in the test set is low.\n",
    "\n",
    "Conversely, if we have not trained the model sufficiently, we can also see this by simply comparing the training and test metrics, such that if they are relatively equal and very high, our model is most likely not fitting our training data well."
   ]
  }
 ],
 "metadata": {
  "kernelspec": {
   "display_name": "Python 3.8.13 64-bit ('3.8.13')",
   "language": "python",
   "name": "python3"
  },
  "language_info": {
   "codemirror_mode": {
    "name": "ipython",
    "version": 3
   },
   "file_extension": ".py",
   "mimetype": "text/x-python",
   "name": "python",
   "nbconvert_exporter": "python",
   "pygments_lexer": "ipython3",
   "version": "3.11.4"
  },
  "vscode": {
   "interpreter": {
    "hash": "110cc1dee26208153f2972f08a2ad52b6a56238dc66d48e87fb757ef2996db56"
   }
  }
 },
 "nbformat": 4,
 "nbformat_minor": 5
}
