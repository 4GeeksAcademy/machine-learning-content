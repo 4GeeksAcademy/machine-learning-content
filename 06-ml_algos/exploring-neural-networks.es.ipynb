{
 "cells": [
  {
   "cell_type": "markdown",
   "metadata": {},
   "source": [
    "## RNA en Python"
   ]
  },
  {
   "cell_type": "markdown",
   "metadata": {},
   "source": [
    "A continuación veremos cómo podemos implementar RNA (Redes de Neuronas Artificiales) en Python. Para ello, utilizaremos la librería `keras` sobre `tensorflow` (que es lo más común)."
   ]
  },
  {
   "cell_type": "markdown",
   "metadata": {},
   "source": [
    "### Clasificación de conjuntos de datos textuales\n",
    "\n",
    "Vamos a utilizar el conjunto de datos de inicio de diabetes de los indios Pima. Este es un conjunto de datos de Machine Learning estándar del repositorio de Machine Learning de UCI. Describe los datos de los registros médicos de los pacientes de los indios Pima y si tuvieron un inicio de diabetes dentro de los cinco años."
   ]
  },
  {
   "cell_type": "markdown",
   "metadata": {},
   "source": [
    "#### Paso 1. Lectura del conjunto de datos"
   ]
  },
  {
   "cell_type": "code",
   "execution_count": 1,
   "metadata": {},
   "outputs": [
    {
     "data": {
      "text/html": [
       "<div>\n",
       "<style scoped>\n",
       "    .dataframe tbody tr th:only-of-type {\n",
       "        vertical-align: middle;\n",
       "    }\n",
       "\n",
       "    .dataframe tbody tr th {\n",
       "        vertical-align: top;\n",
       "    }\n",
       "\n",
       "    .dataframe thead th {\n",
       "        text-align: right;\n",
       "    }\n",
       "</style>\n",
       "<table border=\"1\" class=\"dataframe\">\n",
       "  <thead>\n",
       "    <tr style=\"text-align: right;\">\n",
       "      <th></th>\n",
       "      <th>0</th>\n",
       "      <th>1</th>\n",
       "      <th>2</th>\n",
       "      <th>3</th>\n",
       "      <th>4</th>\n",
       "      <th>5</th>\n",
       "      <th>6</th>\n",
       "      <th>7</th>\n",
       "    </tr>\n",
       "  </thead>\n",
       "  <tbody>\n",
       "    <tr>\n",
       "      <th>60</th>\n",
       "      <td>-0.547919</td>\n",
       "      <td>-1.154694</td>\n",
       "      <td>-3.572597</td>\n",
       "      <td>-1.288212</td>\n",
       "      <td>-0.692891</td>\n",
       "      <td>-4.060474</td>\n",
       "      <td>-0.507006</td>\n",
       "      <td>-1.041549</td>\n",
       "    </tr>\n",
       "    <tr>\n",
       "      <th>618</th>\n",
       "      <td>1.530847</td>\n",
       "      <td>-0.278373</td>\n",
       "      <td>0.666618</td>\n",
       "      <td>0.217261</td>\n",
       "      <td>-0.692891</td>\n",
       "      <td>-0.481351</td>\n",
       "      <td>2.446670</td>\n",
       "      <td>1.425995</td>\n",
       "    </tr>\n",
       "    <tr>\n",
       "      <th>346</th>\n",
       "      <td>-0.844885</td>\n",
       "      <td>0.566649</td>\n",
       "      <td>-1.194501</td>\n",
       "      <td>-0.096379</td>\n",
       "      <td>0.027790</td>\n",
       "      <td>-0.417892</td>\n",
       "      <td>0.550035</td>\n",
       "      <td>-0.956462</td>\n",
       "    </tr>\n",
       "    <tr>\n",
       "      <th>294</th>\n",
       "      <td>-1.141852</td>\n",
       "      <td>1.255187</td>\n",
       "      <td>-0.987710</td>\n",
       "      <td>-1.288212</td>\n",
       "      <td>-0.692891</td>\n",
       "      <td>-1.280942</td>\n",
       "      <td>-0.658012</td>\n",
       "      <td>2.702312</td>\n",
       "    </tr>\n",
       "    <tr>\n",
       "      <th>231</th>\n",
       "      <td>0.639947</td>\n",
       "      <td>0.410164</td>\n",
       "      <td>0.563223</td>\n",
       "      <td>1.032726</td>\n",
       "      <td>2.519781</td>\n",
       "      <td>1.803195</td>\n",
       "      <td>-0.706334</td>\n",
       "      <td>1.085644</td>\n",
       "    </tr>\n",
       "  </tbody>\n",
       "</table>\n",
       "</div>"
      ],
      "text/plain": [
       "            0         1         2         3         4         5         6  \\\n",
       "60  -0.547919 -1.154694 -3.572597 -1.288212 -0.692891 -4.060474 -0.507006   \n",
       "618  1.530847 -0.278373  0.666618  0.217261 -0.692891 -0.481351  2.446670   \n",
       "346 -0.844885  0.566649 -1.194501 -0.096379  0.027790 -0.417892  0.550035   \n",
       "294 -1.141852  1.255187 -0.987710 -1.288212 -0.692891 -1.280942 -0.658012   \n",
       "231  0.639947  0.410164  0.563223  1.032726  2.519781  1.803195 -0.706334   \n",
       "\n",
       "            7  \n",
       "60  -1.041549  \n",
       "618  1.425995  \n",
       "346 -0.956462  \n",
       "294  2.702312  \n",
       "231  1.085644  "
      ]
     },
     "execution_count": 1,
     "metadata": {},
     "output_type": "execute_result"
    }
   ],
   "source": [
    "import pandas as pd\n",
    "from sklearn.model_selection import train_test_split\n",
    "\n",
    "total_data = pd.read_csv(\"https://raw.githubusercontent.com/4GeeksAcademy/machine-learning-content/master/assets/clean-pima-indians-diabetes.csv\")\n",
    "\n",
    "X = total_data.drop(\"8\", axis = 1)\n",
    "y = total_data[\"8\"]\n",
    "\n",
    "X_train, X_test, y_train, y_test = train_test_split(X, y, test_size = 0.2, random_state = 42)\n",
    "\n",
    "X_train.head()"
   ]
  },
  {
   "cell_type": "markdown",
   "metadata": {},
   "source": [
    "El conjunto *train* lo utilizaremos para entrenar el modelo, mientras que con el *test* lo evaluaremos para medir su grado de efectividad. Además, generalmente es una buena práctica normalizar los datos antes de entrenar una red neuronal artificial (RNA). Se pueden aplicar dos tipos: de 0 a 1 o de -1 a 1."
   ]
  },
  {
   "cell_type": "markdown",
   "metadata": {},
   "source": [
    "#### Paso 2: Inicialización y entrenamiento del modelo\n",
    "\n",
    "Los modelos en Keras se definen como una secuencia de capas. Creamos un modelo secuencial y agregamos capas una a una hasta que estemos satisfechos con nuestra arquitectura de red.\n",
    "\n",
    "La capa de entrada siempre tendrá tantas neuronas como variables predictoras. En este caso, tenemos un total de 8 (de la 0 a la 7). A continuación, añadimos dos capas ocultas, una de 12 neuronas y otra de 8. Por último, la cuarta capa, de salida, tendrá una única neurona, ya que el problema es dicotómico. Si fuese de `n` clases, la red tendría `n` salidas.\n",
    "\n",
    "> Nota: Hemos creado una red por defecto con capas ocultas y neuronas en cada capa oculta aleatorias. Normalmente se suele empezar así y a continuación hacer una optimización de hiperparámetros."
   ]
  },
  {
   "cell_type": "code",
   "execution_count": 2,
   "metadata": {},
   "outputs": [
    {
     "name": "stderr",
     "output_type": "stream",
     "text": [
      "2023-08-07 16:28:58.493490: I tensorflow/tsl/cuda/cudart_stub.cc:28] Could not find cuda drivers on your machine, GPU will not be used.\n",
      "2023-08-07 16:28:58.522067: I tensorflow/tsl/cuda/cudart_stub.cc:28] Could not find cuda drivers on your machine, GPU will not be used.\n",
      "2023-08-07 16:28:58.522701: I tensorflow/core/platform/cpu_feature_guard.cc:182] This TensorFlow binary is optimized to use available CPU instructions in performance-critical operations.\n",
      "To enable the following instructions: AVX2 FMA, in other operations, rebuild TensorFlow with the appropriate compiler flags.\n",
      "2023-08-07 16:28:59.257939: W tensorflow/compiler/tf2tensorrt/utils/py_utils.cc:38] TF-TRT Warning: Could not find TensorRT\n"
     ]
    }
   ],
   "source": [
    "from tensorflow.keras.layers import Dense\n",
    "from tensorflow.keras.models import Sequential\n",
    "from tensorflow.keras.utils import set_random_seed\n",
    "\n",
    "set_random_seed(42)\n",
    "\n",
    "model = Sequential()\n",
    "model.add(Dense(12, input_shape = (8,), activation = \"relu\"))\n",
    "model.add(Dense(8, activation = \"relu\"))\n",
    "model.add(Dense(1, activation = \"sigmoid\"))"
   ]
  },
  {
   "cell_type": "markdown",
   "metadata": {},
   "source": [
    "A continuación, una vez que el modelo está definido, podemos compilarlo. El backend elige automáticamente la mejor manera de representar la red para entrenar y hacer predicciones para ejecutar en su hardware, como CPU o GPU o incluso distribuido.\n",
    "\n",
    "Al compilar, debemos especificar algunas propiedades adicionales requeridas al entrenar la red. Recordemos que entrenar una red significa encontrar el mejor conjunto de pesos para asignar entradas a salidas en nuestro conjunto de datos."
   ]
  },
  {
   "cell_type": "code",
   "execution_count": 3,
   "metadata": {},
   "outputs": [
    {
     "data": {
      "text/plain": [
       "<keras.src.engine.sequential.Sequential at 0x7f8a9d74d5d0>"
      ]
     },
     "execution_count": 3,
     "metadata": {},
     "output_type": "execute_result"
    }
   ],
   "source": [
    "model.compile(loss = \"binary_crossentropy\", optimizer = \"adam\", metrics = [\"accuracy\"])\n",
    "model"
   ]
  },
  {
   "attachments": {},
   "cell_type": "markdown",
   "metadata": {},
   "source": [
    "Definiremos el optimizador conocido como `adam`. Esta es una versión popular del descenso de gradiente porque se sintoniza automáticamente y brinda buenos resultados en una amplia gama de problemas. Recopilaremos e informaremos la precisión de la clasificación, definida a través del argumento de las métricas.\n",
    "\n",
    "El entrenamiento ocurre en **épocas** (*epoch*) y cada época se divide en **lotes** (*batch*).\n",
    "\n",
    "- **Epoch**: Una pasada por todas las filas del conjunto de datos de entrenamiento.\n",
    "- **Batch**: Una o más muestras consideradas por el modelo dentro de una época antes de que se actualicen los pesos.\n",
    "\n",
    "El proceso de entrenamiento se ejecutará durante un número fijo de iteraciones, que son las épocas. También debemos establecer la cantidad de filas del conjunto de datos que se consideran antes de que se actualicen los pesos del modelo dentro de cada época, lo que se denomina tamaño de batch y se establece mediante el argumento `batch_size` (tamaño_lote).\n",
    "\n",
    "Para este problema, ejecutaremos una pequeña cantidad de epochs (150) y usaremos un tamaño de batch relativamente pequeño de 10:"
   ]
  },
  {
   "cell_type": "code",
   "execution_count": 4,
   "metadata": {},
   "outputs": [
    {
     "name": "stdout",
     "output_type": "stream",
     "text": [
      "Epoch 1/150\n"
     ]
    },
    {
     "name": "stdout",
     "output_type": "stream",
     "text": [
      "62/62 [==============================] - 1s 884us/step - loss: 0.7338 - accuracy: 0.4756\n",
      "Epoch 2/150\n",
      "62/62 [==============================] - 0s 766us/step - loss: 0.6790 - accuracy: 0.6173\n",
      "Epoch 3/150\n",
      "62/62 [==============================] - 0s 662us/step - loss: 0.6336 - accuracy: 0.6873\n",
      "Epoch 4/150\n",
      "62/62 [==============================] - 0s 664us/step - loss: 0.5910 - accuracy: 0.7296\n",
      "Epoch 5/150\n",
      "62/62 [==============================] - 0s 659us/step - loss: 0.5552 - accuracy: 0.7508\n",
      "Epoch 6/150\n",
      "62/62 [==============================] - 0s 669us/step - loss: 0.5276 - accuracy: 0.7541\n",
      "Epoch 7/150\n",
      "62/62 [==============================] - 0s 668us/step - loss: 0.5077 - accuracy: 0.7606\n",
      "Epoch 8/150\n",
      "62/62 [==============================] - 0s 666us/step - loss: 0.4935 - accuracy: 0.7573\n",
      "Epoch 9/150\n",
      "62/62 [==============================] - 0s 679us/step - loss: 0.4827 - accuracy: 0.7655\n",
      "Epoch 10/150\n",
      "62/62 [==============================] - 0s 745us/step - loss: 0.4748 - accuracy: 0.7720\n",
      "Epoch 11/150\n",
      "62/62 [==============================] - 0s 732us/step - loss: 0.4691 - accuracy: 0.7720\n",
      "Epoch 12/150\n",
      "62/62 [==============================] - 0s 718us/step - loss: 0.4661 - accuracy: 0.7720\n",
      "Epoch 13/150\n",
      "62/62 [==============================] - 0s 712us/step - loss: 0.4625 - accuracy: 0.7720\n",
      "Epoch 14/150\n",
      "62/62 [==============================] - 0s 717us/step - loss: 0.4587 - accuracy: 0.7785\n",
      "Epoch 15/150\n",
      "62/62 [==============================] - 0s 710us/step - loss: 0.4566 - accuracy: 0.7769\n",
      "Epoch 16/150\n",
      "62/62 [==============================] - 0s 714us/step - loss: 0.4539 - accuracy: 0.7801\n",
      "Epoch 17/150\n",
      "62/62 [==============================] - 0s 723us/step - loss: 0.4525 - accuracy: 0.7818\n",
      "Epoch 18/150\n",
      "62/62 [==============================] - 0s 725us/step - loss: 0.4507 - accuracy: 0.7818\n",
      "Epoch 19/150\n",
      "62/62 [==============================] - 0s 703us/step - loss: 0.4485 - accuracy: 0.7834\n",
      "Epoch 20/150\n",
      "62/62 [==============================] - 0s 674us/step - loss: 0.4469 - accuracy: 0.7850\n",
      "Epoch 21/150\n",
      "62/62 [==============================] - 0s 693us/step - loss: 0.4443 - accuracy: 0.7866\n",
      "Epoch 22/150\n",
      "62/62 [==============================] - 0s 744us/step - loss: 0.4428 - accuracy: 0.7866\n",
      "Epoch 23/150\n",
      "62/62 [==============================] - 0s 725us/step - loss: 0.4410 - accuracy: 0.7834\n",
      "Epoch 24/150\n",
      "62/62 [==============================] - 0s 744us/step - loss: 0.4390 - accuracy: 0.7899\n",
      "Epoch 25/150\n",
      "62/62 [==============================] - 0s 747us/step - loss: 0.4374 - accuracy: 0.7883\n",
      "Epoch 26/150\n",
      "62/62 [==============================] - 0s 745us/step - loss: 0.4370 - accuracy: 0.7899\n",
      "Epoch 27/150\n",
      "62/62 [==============================] - 0s 691us/step - loss: 0.4352 - accuracy: 0.7915\n",
      "Epoch 28/150\n",
      "62/62 [==============================] - 0s 689us/step - loss: 0.4354 - accuracy: 0.7866\n",
      "Epoch 29/150\n",
      "62/62 [==============================] - 0s 731us/step - loss: 0.4327 - accuracy: 0.7915\n",
      "Epoch 30/150\n",
      "62/62 [==============================] - 0s 753us/step - loss: 0.4314 - accuracy: 0.7915\n",
      "Epoch 31/150\n",
      "62/62 [==============================] - 0s 746us/step - loss: 0.4302 - accuracy: 0.7915\n",
      "Epoch 32/150\n",
      "62/62 [==============================] - 0s 734us/step - loss: 0.4297 - accuracy: 0.7899\n",
      "Epoch 33/150\n",
      "62/62 [==============================] - 0s 733us/step - loss: 0.4282 - accuracy: 0.7932\n",
      "Epoch 34/150\n",
      "62/62 [==============================] - 0s 717us/step - loss: 0.4269 - accuracy: 0.7964\n",
      "Epoch 35/150\n",
      "62/62 [==============================] - 0s 740us/step - loss: 0.4256 - accuracy: 0.8013\n",
      "Epoch 36/150\n",
      "62/62 [==============================] - 0s 708us/step - loss: 0.4247 - accuracy: 0.8013\n",
      "Epoch 37/150\n",
      "62/62 [==============================] - 0s 747us/step - loss: 0.4236 - accuracy: 0.7948\n",
      "Epoch 38/150\n",
      "62/62 [==============================] - 0s 753us/step - loss: 0.4225 - accuracy: 0.7948\n",
      "Epoch 39/150\n",
      "62/62 [==============================] - 0s 738us/step - loss: 0.4220 - accuracy: 0.7980\n",
      "Epoch 40/150\n",
      "62/62 [==============================] - 0s 740us/step - loss: 0.4208 - accuracy: 0.7980\n",
      "Epoch 41/150\n",
      "62/62 [==============================] - 0s 767us/step - loss: 0.4198 - accuracy: 0.7980\n",
      "Epoch 42/150\n",
      "62/62 [==============================] - 0s 702us/step - loss: 0.4196 - accuracy: 0.8029\n",
      "Epoch 43/150\n",
      "62/62 [==============================] - 0s 695us/step - loss: 0.4185 - accuracy: 0.8029\n",
      "Epoch 44/150\n",
      "62/62 [==============================] - 0s 674us/step - loss: 0.4178 - accuracy: 0.7980\n",
      "Epoch 45/150\n",
      "62/62 [==============================] - 0s 713us/step - loss: 0.4166 - accuracy: 0.7980\n",
      "Epoch 46/150\n",
      "62/62 [==============================] - 0s 679us/step - loss: 0.4164 - accuracy: 0.7948\n",
      "Epoch 47/150\n",
      "62/62 [==============================] - 0s 718us/step - loss: 0.4158 - accuracy: 0.7997\n",
      "Epoch 48/150\n",
      "62/62 [==============================] - 0s 685us/step - loss: 0.4148 - accuracy: 0.7980\n",
      "Epoch 49/150\n",
      "62/62 [==============================] - 0s 694us/step - loss: 0.4140 - accuracy: 0.8046\n",
      "Epoch 50/150\n",
      "62/62 [==============================] - 0s 692us/step - loss: 0.4129 - accuracy: 0.8029\n",
      "Epoch 51/150\n",
      "62/62 [==============================] - 0s 688us/step - loss: 0.4123 - accuracy: 0.7980\n",
      "Epoch 52/150\n",
      "62/62 [==============================] - 0s 715us/step - loss: 0.4117 - accuracy: 0.8013\n",
      "Epoch 53/150\n",
      "62/62 [==============================] - 0s 690us/step - loss: 0.4104 - accuracy: 0.8062\n",
      "Epoch 54/150\n",
      "62/62 [==============================] - 0s 711us/step - loss: 0.4087 - accuracy: 0.8078\n",
      "Epoch 55/150\n",
      "62/62 [==============================] - 0s 689us/step - loss: 0.4093 - accuracy: 0.8094\n",
      "Epoch 56/150\n",
      "62/62 [==============================] - 0s 693us/step - loss: 0.4082 - accuracy: 0.8046\n",
      "Epoch 57/150\n",
      "62/62 [==============================] - 0s 693us/step - loss: 0.4070 - accuracy: 0.8094\n",
      "Epoch 58/150\n",
      "62/62 [==============================] - 0s 665us/step - loss: 0.4061 - accuracy: 0.8062\n",
      "Epoch 59/150\n",
      "62/62 [==============================] - 0s 676us/step - loss: 0.4055 - accuracy: 0.8127\n",
      "Epoch 60/150\n",
      "62/62 [==============================] - 0s 672us/step - loss: 0.4054 - accuracy: 0.8111\n",
      "Epoch 61/150\n",
      "62/62 [==============================] - 0s 699us/step - loss: 0.4048 - accuracy: 0.8127\n",
      "Epoch 62/150\n",
      "62/62 [==============================] - 0s 669us/step - loss: 0.4031 - accuracy: 0.8111\n",
      "Epoch 63/150\n",
      "62/62 [==============================] - 0s 703us/step - loss: 0.4021 - accuracy: 0.8111\n",
      "Epoch 64/150\n",
      "62/62 [==============================] - 0s 670us/step - loss: 0.4017 - accuracy: 0.8127\n",
      "Epoch 65/150\n",
      "62/62 [==============================] - 0s 687us/step - loss: 0.4015 - accuracy: 0.8143\n",
      "Epoch 66/150\n",
      "62/62 [==============================] - 0s 670us/step - loss: 0.4011 - accuracy: 0.8078\n",
      "Epoch 67/150\n",
      "62/62 [==============================] - 0s 675us/step - loss: 0.3993 - accuracy: 0.8094\n",
      "Epoch 68/150\n",
      "62/62 [==============================] - 0s 681us/step - loss: 0.3992 - accuracy: 0.8192\n",
      "Epoch 69/150\n",
      "62/62 [==============================] - 0s 684us/step - loss: 0.3973 - accuracy: 0.8192\n",
      "Epoch 70/150\n",
      "62/62 [==============================] - 0s 687us/step - loss: 0.3972 - accuracy: 0.8192\n",
      "Epoch 71/150\n",
      "62/62 [==============================] - 0s 676us/step - loss: 0.3966 - accuracy: 0.8111\n",
      "Epoch 72/150\n",
      "62/62 [==============================] - 0s 689us/step - loss: 0.3955 - accuracy: 0.8192\n",
      "Epoch 73/150\n",
      "62/62 [==============================] - 0s 686us/step - loss: 0.3962 - accuracy: 0.8062\n",
      "Epoch 74/150\n",
      "62/62 [==============================] - 0s 675us/step - loss: 0.3949 - accuracy: 0.8160\n",
      "Epoch 75/150\n",
      "62/62 [==============================] - 0s 678us/step - loss: 0.3937 - accuracy: 0.8241\n",
      "Epoch 76/150\n",
      "62/62 [==============================] - 0s 693us/step - loss: 0.3945 - accuracy: 0.8208\n",
      "Epoch 77/150\n",
      "62/62 [==============================] - 0s 694us/step - loss: 0.3941 - accuracy: 0.8176\n",
      "Epoch 78/150\n",
      "62/62 [==============================] - 0s 667us/step - loss: 0.3932 - accuracy: 0.8176\n",
      "Epoch 79/150\n",
      "62/62 [==============================] - 0s 687us/step - loss: 0.3915 - accuracy: 0.8208\n",
      "Epoch 80/150\n",
      "62/62 [==============================] - 0s 683us/step - loss: 0.3903 - accuracy: 0.8176\n",
      "Epoch 81/150\n",
      "62/62 [==============================] - 0s 690us/step - loss: 0.3906 - accuracy: 0.8062\n",
      "Epoch 82/150\n",
      "62/62 [==============================] - 0s 700us/step - loss: 0.3899 - accuracy: 0.8241\n",
      "Epoch 83/150\n",
      "62/62 [==============================] - 0s 688us/step - loss: 0.3890 - accuracy: 0.8160\n",
      "Epoch 84/150\n",
      "62/62 [==============================] - 0s 680us/step - loss: 0.3879 - accuracy: 0.8257\n",
      "Epoch 85/150\n",
      "62/62 [==============================] - 0s 673us/step - loss: 0.3871 - accuracy: 0.8290\n",
      "Epoch 86/150\n",
      "62/62 [==============================] - 0s 676us/step - loss: 0.3858 - accuracy: 0.8257\n",
      "Epoch 87/150\n",
      "62/62 [==============================] - 0s 699us/step - loss: 0.3857 - accuracy: 0.8306\n",
      "Epoch 88/150\n",
      "62/62 [==============================] - 0s 746us/step - loss: 0.3858 - accuracy: 0.8257\n",
      "Epoch 89/150\n",
      "62/62 [==============================] - 0s 719us/step - loss: 0.3839 - accuracy: 0.8274\n",
      "Epoch 90/150\n",
      "62/62 [==============================] - 0s 701us/step - loss: 0.3857 - accuracy: 0.8225\n",
      "Epoch 91/150\n",
      "62/62 [==============================] - 0s 671us/step - loss: 0.3852 - accuracy: 0.8241\n",
      "Epoch 92/150\n",
      "62/62 [==============================] - 0s 658us/step - loss: 0.3837 - accuracy: 0.8290\n",
      "Epoch 93/150\n",
      "62/62 [==============================] - 0s 676us/step - loss: 0.3828 - accuracy: 0.8274\n",
      "Epoch 94/150\n",
      "62/62 [==============================] - 0s 710us/step - loss: 0.3821 - accuracy: 0.8290\n",
      "Epoch 95/150\n",
      "62/62 [==============================] - 0s 717us/step - loss: 0.3815 - accuracy: 0.8322\n",
      "Epoch 96/150\n",
      "62/62 [==============================] - 0s 715us/step - loss: 0.3815 - accuracy: 0.8322\n",
      "Epoch 97/150\n",
      "62/62 [==============================] - 0s 712us/step - loss: 0.3811 - accuracy: 0.8274\n",
      "Epoch 98/150\n",
      "62/62 [==============================] - 0s 716us/step - loss: 0.3815 - accuracy: 0.8306\n",
      "Epoch 99/150\n",
      "62/62 [==============================] - 0s 721us/step - loss: 0.3798 - accuracy: 0.8274\n",
      "Epoch 100/150\n",
      "62/62 [==============================] - 0s 715us/step - loss: 0.3802 - accuracy: 0.8339\n",
      "Epoch 101/150\n",
      "62/62 [==============================] - 0s 718us/step - loss: 0.3783 - accuracy: 0.8322\n",
      "Epoch 102/150\n",
      "62/62 [==============================] - 0s 715us/step - loss: 0.3797 - accuracy: 0.8306\n",
      "Epoch 103/150\n",
      "62/62 [==============================] - 0s 730us/step - loss: 0.3795 - accuracy: 0.8257\n",
      "Epoch 104/150\n",
      "62/62 [==============================] - 0s 742us/step - loss: 0.3783 - accuracy: 0.8322\n",
      "Epoch 105/150\n",
      "62/62 [==============================] - 0s 728us/step - loss: 0.3777 - accuracy: 0.8306\n",
      "Epoch 106/150\n",
      "62/62 [==============================] - 0s 750us/step - loss: 0.3778 - accuracy: 0.8290\n",
      "Epoch 107/150\n",
      "62/62 [==============================] - 0s 744us/step - loss: 0.3764 - accuracy: 0.8290\n",
      "Epoch 108/150\n",
      "62/62 [==============================] - 0s 731us/step - loss: 0.3766 - accuracy: 0.8306\n",
      "Epoch 109/150\n",
      "62/62 [==============================] - 0s 727us/step - loss: 0.3767 - accuracy: 0.8290\n",
      "Epoch 110/150\n",
      "62/62 [==============================] - 0s 726us/step - loss: 0.3770 - accuracy: 0.8290\n",
      "Epoch 111/150\n",
      "62/62 [==============================] - 0s 729us/step - loss: 0.3764 - accuracy: 0.8257\n",
      "Epoch 112/150\n",
      "62/62 [==============================] - 0s 715us/step - loss: 0.3746 - accuracy: 0.8290\n",
      "Epoch 113/150\n",
      "62/62 [==============================] - 0s 659us/step - loss: 0.3742 - accuracy: 0.8290\n",
      "Epoch 114/150\n",
      "62/62 [==============================] - 0s 670us/step - loss: 0.3744 - accuracy: 0.8322\n",
      "Epoch 115/150\n",
      "62/62 [==============================] - 0s 681us/step - loss: 0.3741 - accuracy: 0.8339\n",
      "Epoch 116/150\n",
      "62/62 [==============================] - 0s 684us/step - loss: 0.3728 - accuracy: 0.8339\n",
      "Epoch 117/150\n",
      "62/62 [==============================] - 0s 680us/step - loss: 0.3730 - accuracy: 0.8339\n",
      "Epoch 118/150\n",
      "62/62 [==============================] - 0s 671us/step - loss: 0.3711 - accuracy: 0.8355\n",
      "Epoch 119/150\n",
      "62/62 [==============================] - 0s 679us/step - loss: 0.3717 - accuracy: 0.8355\n",
      "Epoch 120/150\n",
      "62/62 [==============================] - 0s 668us/step - loss: 0.3710 - accuracy: 0.8339\n",
      "Epoch 121/150\n",
      "62/62 [==============================] - 0s 686us/step - loss: 0.3710 - accuracy: 0.8355\n",
      "Epoch 122/150\n",
      "62/62 [==============================] - 0s 717us/step - loss: 0.3706 - accuracy: 0.8388\n",
      "Epoch 123/150\n",
      "62/62 [==============================] - 0s 700us/step - loss: 0.3695 - accuracy: 0.8371\n",
      "Epoch 124/150\n",
      "62/62 [==============================] - 0s 722us/step - loss: 0.3711 - accuracy: 0.8388\n",
      "Epoch 125/150\n",
      "62/62 [==============================] - 0s 731us/step - loss: 0.3698 - accuracy: 0.8355\n",
      "Epoch 126/150\n",
      "62/62 [==============================] - 0s 678us/step - loss: 0.3683 - accuracy: 0.8339\n",
      "Epoch 127/150\n",
      "62/62 [==============================] - 0s 690us/step - loss: 0.3675 - accuracy: 0.8388\n",
      "Epoch 128/150\n",
      "62/62 [==============================] - 0s 731us/step - loss: 0.3689 - accuracy: 0.8371\n",
      "Epoch 129/150\n",
      "62/62 [==============================] - 0s 736us/step - loss: 0.3675 - accuracy: 0.8339\n",
      "Epoch 130/150\n",
      "62/62 [==============================] - 0s 745us/step - loss: 0.3664 - accuracy: 0.8339\n",
      "Epoch 131/150\n",
      "62/62 [==============================] - 0s 744us/step - loss: 0.3663 - accuracy: 0.8355\n",
      "Epoch 132/150\n",
      "62/62 [==============================] - 0s 733us/step - loss: 0.3658 - accuracy: 0.8274\n",
      "Epoch 133/150\n",
      "62/62 [==============================] - 0s 680us/step - loss: 0.3663 - accuracy: 0.8371\n",
      "Epoch 134/150\n",
      "62/62 [==============================] - 0s 717us/step - loss: 0.3674 - accuracy: 0.8355\n",
      "Epoch 135/150\n",
      "62/62 [==============================] - 0s 748us/step - loss: 0.3645 - accuracy: 0.8420\n",
      "Epoch 136/150\n",
      "62/62 [==============================] - 0s 739us/step - loss: 0.3643 - accuracy: 0.8355\n",
      "Epoch 137/150\n",
      "62/62 [==============================] - 0s 744us/step - loss: 0.3646 - accuracy: 0.8339\n",
      "Epoch 138/150\n",
      "62/62 [==============================] - 0s 741us/step - loss: 0.3642 - accuracy: 0.8355\n",
      "Epoch 139/150\n",
      "62/62 [==============================] - 0s 733us/step - loss: 0.3636 - accuracy: 0.8388\n",
      "Epoch 140/150\n",
      "62/62 [==============================] - 0s 735us/step - loss: 0.3630 - accuracy: 0.8371\n",
      "Epoch 141/150\n",
      "62/62 [==============================] - 0s 726us/step - loss: 0.3640 - accuracy: 0.8322\n",
      "Epoch 142/150\n",
      "62/62 [==============================] - 0s 749us/step - loss: 0.3619 - accuracy: 0.8371\n",
      "Epoch 143/150\n",
      "62/62 [==============================] - 0s 738us/step - loss: 0.3606 - accuracy: 0.8355\n",
      "Epoch 144/150\n",
      "62/62 [==============================] - 0s 733us/step - loss: 0.3610 - accuracy: 0.8371\n",
      "Epoch 145/150\n",
      "62/62 [==============================] - 0s 738us/step - loss: 0.3609 - accuracy: 0.8404\n",
      "Epoch 146/150\n",
      "62/62 [==============================] - 0s 751us/step - loss: 0.3626 - accuracy: 0.8355\n",
      "Epoch 147/150\n",
      "62/62 [==============================] - 0s 739us/step - loss: 0.3615 - accuracy: 0.8355\n",
      "Epoch 148/150\n",
      "62/62 [==============================] - 0s 745us/step - loss: 0.3584 - accuracy: 0.8420\n",
      "Epoch 149/150\n",
      "62/62 [==============================] - 0s 745us/step - loss: 0.3592 - accuracy: 0.8371\n",
      "Epoch 150/150\n",
      "62/62 [==============================] - 0s 744us/step - loss: 0.3576 - accuracy: 0.8420\n"
     ]
    },
    {
     "data": {
      "text/plain": [
       "<keras.src.callbacks.History at 0x7f8a60af23d0>"
      ]
     },
     "execution_count": 4,
     "metadata": {},
     "output_type": "execute_result"
    }
   ],
   "source": [
    "# Ajustar el modelo de keras en el conjunto de datos\n",
    "model.fit(X_train, y_train, epochs = 150, batch_size = 10)"
   ]
  },
  {
   "cell_type": "code",
   "execution_count": 5,
   "metadata": {},
   "outputs": [
    {
     "name": "stdout",
     "output_type": "stream",
     "text": [
      "20/20 [==============================] - 0s 726us/step - loss: 0.3535 - accuracy: 0.8420\n",
      "Accuracy: 0.8420195579528809\n"
     ]
    }
   ],
   "source": [
    "_, accuracy = model.evaluate(X_train, y_train)\n",
    "\n",
    "print(f\"Accuracy: {accuracy}\")"
   ]
  },
  {
   "cell_type": "markdown",
   "metadata": {},
   "source": [
    "El tiempo de entrenamiento de un modelo dependerá, en primer lugar, del tamaño del conjunto de datos (instancias y características), y también de la tipología de modelo y su configuración.\n",
    "\n",
    "El accuracy del conjunto de entrenamiento es de un `84,20%`.\n",
    "\n",
    "#### Paso 3: Predicción del modelo"
   ]
  },
  {
   "cell_type": "code",
   "execution_count": 6,
   "metadata": {},
   "outputs": [
    {
     "name": "stdout",
     "output_type": "stream",
     "text": [
      "5/5 [==============================] - 0s 783us/step\n"
     ]
    },
    {
     "data": {
      "text/plain": [
       "array([[2.6933843e-01],\n",
       "       [5.7993677e-02],\n",
       "       [7.6992743e-02],\n",
       "       [4.8524177e-01],\n",
       "       [3.1675667e-01],\n",
       "       [6.4265609e-01],\n",
       "       [7.3388085e-04],\n",
       "       [2.8476545e-01],\n",
       "       [8.7694836e-01],\n",
       "       [4.1469648e-01],\n",
       "       [1.6080230e-01],\n",
       "       [8.2213795e-01],\n",
       "       [2.1518065e-01],\n",
       "       [5.3527528e-01],\n",
       "       [1.2730679e-01]], dtype=float32)"
      ]
     },
     "execution_count": 6,
     "metadata": {},
     "output_type": "execute_result"
    }
   ],
   "source": [
    "y_pred = model.predict(X_test)\n",
    "y_pred[:15]"
   ]
  },
  {
   "cell_type": "markdown",
   "metadata": {},
   "source": [
    "Como vemos, el modelo no devuelve las clases `0` y `1` directamente, sino que requiere de un preprocesamiento previo:"
   ]
  },
  {
   "cell_type": "code",
   "execution_count": 7,
   "metadata": {},
   "outputs": [
    {
     "data": {
      "text/plain": [
       "[0, 0, 0, 0, 0, 1, 0, 0, 1, 0, 0, 1, 0, 1, 0]"
      ]
     },
     "execution_count": 7,
     "metadata": {},
     "output_type": "execute_result"
    }
   ],
   "source": [
    "y_pred_round = [round(x[0]) for x in y_pred]\n",
    "y_pred_round[:15]"
   ]
  },
  {
   "cell_type": "markdown",
   "metadata": {},
   "source": [
    "Con los datos en crudo es muy complicado saber si el modelo está acertando o no. Para ello, debemos compararlo con la realidad. Existe una gran cantidad de métricas para medir la efectividad de un modelo a la hora de predecir, entre ellas la **precisión** (*accuracy*), que es la fracción de predicciones que el modelo realizó correctamente."
   ]
  },
  {
   "cell_type": "code",
   "execution_count": 8,
   "metadata": {},
   "outputs": [
    {
     "data": {
      "text/plain": [
       "0.7272727272727273"
      ]
     },
     "execution_count": 8,
     "metadata": {},
     "output_type": "execute_result"
    }
   ],
   "source": [
    "from sklearn.metrics import accuracy_score\n",
    "\n",
    "accuracy_score(y_test, y_pred_round)"
   ]
  },
  {
   "cell_type": "markdown",
   "metadata": {},
   "source": [
    "#### Paso 4: Guardado del modelo\n",
    "\n",
    "Una vez tenemos el modelo que estábamos buscando (presumiblemente tras la optimización de hiperparámetros), para poder utilizarlo a futuro es necesario almacenarlo en nuestro directorio."
   ]
  },
  {
   "cell_type": "code",
   "execution_count": 9,
   "metadata": {},
   "outputs": [],
   "source": [
    "model.save(\"keras_8-12-8-1_42.keras\")"
   ]
  },
  {
   "cell_type": "markdown",
   "metadata": {},
   "source": [
    "Añadir un nombre explicativo al modelo es vital, ya que en el caso de perder el código que lo ha generado sabremos qué arquitectura tiene (en este caso decimos `8-12-8-1` porque tiene 8 neuronas en la capa de entrada, 12 y 8 en las dos capas ocultas y una neurona en la capa de salida) y además la semilla para replicar los componentes aleatorios del modelo, que en este caso lo hacemos añadiendo un número al nombre del archivo, el `42`."
   ]
  },
  {
   "cell_type": "markdown",
   "metadata": {},
   "source": [
    "### Clasificación de conjuntos de imágenes\n",
    "\n",
    "A continuación se muestra un ejemplo simple de cómo entrenar una red neuronal para clasificar imágenes del dataset MNIST. MNIST es un conjunto de datos de imágenes de dígitos escritos a mano, desde 0 hasta 9."
   ]
  },
  {
   "cell_type": "markdown",
   "metadata": {},
   "source": [
    "#### Paso 1. Lectura del conjunto de datos"
   ]
  },
  {
   "cell_type": "code",
   "execution_count": 10,
   "metadata": {},
   "outputs": [
    {
     "name": "stdout",
     "output_type": "stream",
     "text": [
      "Downloading data from https://storage.googleapis.com/tensorflow/tf-keras-datasets/mnist.npz\n",
      "11490434/11490434 [==============================] - 1s 0us/step\n"
     ]
    }
   ],
   "source": [
    "from tensorflow.keras.datasets import mnist\n",
    "\n",
    "(X_train, y_train), (X_test, y_test) = mnist.load_data()\n",
    "\n",
    "# Normalizar los datos (transformamos los valores de los píxeles de 0-255 a 0-1)\n",
    "X_train, X_test = X_train / 255.0, X_test / 255.0"
   ]
  },
  {
   "cell_type": "markdown",
   "metadata": {},
   "source": [
    "Los valores de los píxeles de las imágenes se normalizan para que estén en el rango de 0 a 1 en lugar de 0 a 255."
   ]
  },
  {
   "cell_type": "markdown",
   "metadata": {},
   "source": [
    "#### Paso 2: Inicialización y entrenamiento del modelo\n",
    "\n",
    "Se define la arquitectura de la red neuronal. En este caso, estamos utilizando un modelo secuencial simple con una capa de aplanamiento que transforma las imágenes 2D en vectores 1D, una capa densa con 128 neuronas y una capa de salida con 10 neuronas.\n",
    "\n",
    "A continuación se proporciona una forma alternativa a la anterior para crear una RNA. Ambas son válidas:"
   ]
  },
  {
   "cell_type": "code",
   "execution_count": 11,
   "metadata": {},
   "outputs": [],
   "source": [
    "from tensorflow.keras.layers import Dense, Flatten\n",
    "from tensorflow.keras.models import Sequential\n",
    "from tensorflow.keras.utils import set_random_seed\n",
    "\n",
    "set_random_seed(42)\n",
    "\n",
    "model = Sequential([\n",
    "  # Capa que aplana la imagen de entrada de 28x28 píxeles a un vector de 784 elementos\n",
    "  Flatten(input_shape = (28, 28)),\n",
    "  # Capa oculta densa con 128 neuronas y función de activación ReLU\n",
    "  Dense(128, activation = \"relu\"),\n",
    "  # Capa de salida con 10 neuronas (una para cada dígito del 0 al 9)\n",
    "  Dense(10)\n",
    "])"
   ]
  },
  {
   "cell_type": "markdown",
   "metadata": {},
   "source": [
    "También añadimos el compilador de la red para definir el optimizador y la función de pérdida, como hicimos anteriormente:"
   ]
  },
  {
   "cell_type": "code",
   "execution_count": 12,
   "metadata": {},
   "outputs": [],
   "source": [
    "from tensorflow.keras.losses import SparseCategoricalCrossentropy\n",
    "\n",
    "model.compile(optimizer = \"adam\", loss = SparseCategoricalCrossentropy(from_logits = True), metrics = [\"accuracy\"])"
   ]
  },
  {
   "cell_type": "markdown",
   "metadata": {},
   "source": [
    "Se entrena el modelo en el conjunto de entrenamiento durante un cierto número de épocas. Cuando se trabaja con imágenes es menos común utilizar el parámetro del `batch_size`:"
   ]
  },
  {
   "cell_type": "code",
   "execution_count": 13,
   "metadata": {},
   "outputs": [
    {
     "name": "stdout",
     "output_type": "stream",
     "text": [
      "Epoch 1/5\n",
      "1875/1875 [==============================] - 2s 1ms/step - loss: 0.2530 - accuracy: 0.9276\n",
      "Epoch 2/5\n",
      "1875/1875 [==============================] - 2s 1ms/step - loss: 0.1111 - accuracy: 0.9671\n",
      "Epoch 3/5\n",
      "1875/1875 [==============================] - 2s 1ms/step - loss: 0.0759 - accuracy: 0.9757\n",
      "Epoch 4/5\n",
      "1875/1875 [==============================] - 2s 1ms/step - loss: 0.0566 - accuracy: 0.9831\n",
      "Epoch 5/5\n",
      "1875/1875 [==============================] - 2s 1ms/step - loss: 0.0432 - accuracy: 0.9865\n"
     ]
    },
    {
     "data": {
      "text/plain": [
       "<keras.src.callbacks.History at 0x7f8a600fb950>"
      ]
     },
     "execution_count": 13,
     "metadata": {},
     "output_type": "execute_result"
    }
   ],
   "source": [
    "model.fit(X_train, y_train, epochs = 5)"
   ]
  },
  {
   "cell_type": "code",
   "execution_count": 14,
   "metadata": {},
   "outputs": [
    {
     "name": "stdout",
     "output_type": "stream",
     "text": [
      "1875/1875 [==============================] - 1s 671us/step - loss: 0.0441 - accuracy: 0.9858\n",
      "Accuracy: 0.9858166575431824\n"
     ]
    }
   ],
   "source": [
    "_, accuracy = model.evaluate(X_train, y_train)\n",
    "\n",
    "print(f\"Accuracy: {accuracy}\")"
   ]
  },
  {
   "cell_type": "markdown",
   "metadata": {},
   "source": [
    "El tiempo de entrenamiento de un modelo dependerá, en primer lugar, del tamaño del conjunto de datos (instancias y características), y también de la tipología de modelo y su configuración.\n",
    "\n",
    "#### Paso 3: Predicción del modelo"
   ]
  },
  {
   "cell_type": "code",
   "execution_count": 15,
   "metadata": {},
   "outputs": [
    {
     "name": "stdout",
     "output_type": "stream",
     "text": [
      "313/313 - 0s - loss: 0.0841 - accuracy: 0.9751 - 266ms/epoch - 851us/step\n",
      "\n",
      "Test accuracy: 0.9750999808311462\n"
     ]
    }
   ],
   "source": [
    "test_loss, test_acc = model.evaluate(X_test,  y_test, verbose=2)\n",
    "\n",
    "print('\\nTest accuracy:', test_acc)"
   ]
  },
  {
   "cell_type": "markdown",
   "metadata": {},
   "source": [
    "#### Paso 4: Guardado del modelo\n",
    "\n",
    "Una vez tenemos el modelo que estábamos buscando (presumiblemente tras la optimización de hiperparámetros), para poder utilizarlo a futuro es necesario almacenarlo en nuestro directorio."
   ]
  },
  {
   "cell_type": "code",
   "execution_count": null,
   "metadata": {},
   "outputs": [],
   "source": [
    "model.save(\"keras_28x28-128-10_42.keras\")"
   ]
  },
  {
   "cell_type": "markdown",
   "metadata": {},
   "source": [
    "Añadir un nombre explicativo al modelo es vital, ya que en el caso de perder el código que lo ha generado sabremos qué arquitectura tiene (en este caso ponemos `28x28-128-10` porque tiene una capa de entrada de 28 x 28 píxeles, 128 neuronas en la única capa oculta que tiene y 10 neuronas en la capa de salida) y además la semilla para replicar los componentes aleatorios del modelo, que en este caso lo hacemos añadiendo un número al nombre del archivo, el `42`."
   ]
  }
 ],
 "metadata": {
  "kernelspec": {
   "display_name": "Python 3.8.13 64-bit ('3.8.13')",
   "language": "python",
   "name": "python3"
  },
  "language_info": {
   "codemirror_mode": {
    "name": "ipython",
    "version": 3
   },
   "file_extension": ".py",
   "mimetype": "text/x-python",
   "name": "python",
   "nbconvert_exporter": "python",
   "pygments_lexer": "ipython3",
   "version": "3.11.4"
  },
  "orig_nbformat": 4,
  "vscode": {
   "interpreter": {
    "hash": "110cc1dee26208153f2972f08a2ad52b6a56238dc66d48e87fb757ef2996db56"
   }
  }
 },
 "nbformat": 4,
 "nbformat_minor": 2
}
