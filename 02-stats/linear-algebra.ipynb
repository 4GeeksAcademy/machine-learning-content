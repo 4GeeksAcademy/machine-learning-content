{
    "cells": [
        {
            "attachments": {},
            "cell_type": "markdown",
            "id": "52d41e2c",
            "metadata": {},
            "source": [
                "## Linear Algebra"
            ]
        },
        {
            "attachments": {},
            "cell_type": "markdown",
            "id": "c6736e5d",
            "metadata": {},
            "source": [
                "**Linear algebra** is the branch of linear equations mathematics that uses vector space and matrices.\n",
                "\n",
                "The two primary mathematical entities that are of interest in linear algebra are the **vector** and the **matrix**. They are examples of a more general entity known as a tensor. Tensors possess an order (or rank), which determines the number of dimensions in a matrix required to represent it.\n",
                "\n",
                "**Vectors**: A set of numerical elements of a particular size and one-dimensional. For example:\n",
                "\n",
                "$$\\begin{matrix} 3 \\\\ 4 \\\\ 5 \\end{matrix}$$\n",
                "\n",
                "`numpy` is the best library to work with these data structures. Some examples for generating random vectors are:"
            ]
        },
        {
            "cell_type": "code",
            "execution_count": 1,
            "id": "f13403ab",
            "metadata": {},
            "outputs": [
                {
                    "name": "stdout",
                    "output_type": "stream",
                    "text": [
                        "[1. 1. 1. 1. 1. 1. 1. 1. 1. 1.]\n",
                        "[ 3.          4.33333333  5.66666667  7.          8.33333333  9.66666667\n",
                        " 11.         12.33333333 13.66666667 15.        ]\n",
                        "[0.11415076 0.19611812 0.8587248  0.36435106 0.62198295 0.0050302\n",
                        " 0.04972953 0.18915415 0.24093364 0.16267042]\n",
                        "[1 9 6 8 8 6 7 8 2 7]\n"
                    ]
                }
            ],
            "source": [
                "import numpy as np\n",
                "\n",
                "# Vector of 10 ones\n",
                "a1 = np.ones(10)\n",
                "print(a1)\n",
                "\n",
                "# Vector of 10 numbers that have the same distance from each other, starting with 3 and ending with 15\n",
                "a2 = np.linspace(3, 15, 10)\n",
                "print(a2)\n",
                "\n",
                "# Vector of 10 random numbers between [0, 1)\n",
                "a3 = np.random.rand(10)\n",
                "print(a3)\n",
                "\n",
                "# Vector of 10 random numbers between [1, 10)\n",
                "a4 = np.random.randint(1, 10, size=10)\n",
                "print(a4)"
            ]
        },
        {
            "attachments": {},
            "cell_type": "markdown",
            "id": "bd631630",
            "metadata": {},
            "source": [
                "**Matrix**: A set of vectors that form a rectangular structure with rows and columns. For example:\n",
                "\n",
                "$$\\begin{matrix} 3 & 4 \\\\ 5 & 6 \\end{matrix}$$\n",
                "\n",
                "With `numpy` you can also generate arrays. Some examples of how to generate them are:"
            ]
        },
        {
            "cell_type": "code",
            "execution_count": 2,
            "id": "8948deb3",
            "metadata": {},
            "outputs": [
                {
                    "name": "stdout",
                    "output_type": "stream",
                    "text": [
                        "[[1. 0. 0. 0. 0.]\n",
                        " [0. 1. 0. 0. 0.]\n",
                        " [0. 0. 1. 0. 0.]\n",
                        " [0. 0. 0. 1. 0.]\n",
                        " [0. 0. 0. 0. 1.]]\n",
                        "[[0.97199946 0.5296357 ]\n",
                        " [0.69120675 0.36958526]\n",
                        " [0.12795664 0.11455272]]\n",
                        "[[18 12  7 10 15]\n",
                        " [16  5  8 16 13]\n",
                        " [ 6 13 17 17 16]\n",
                        " [ 6 15  9  7  9]\n",
                        " [15  7 11 11 17]\n",
                        " [18 12 11  5 11]\n",
                        " [17  6 17  8 12]]\n"
                    ]
                }
            ],
            "source": [
                "# 5x5 Identity matrix (5 rows, 5 columns)\n",
                "m1 = np.identity(5)\n",
                "print(m1)\n",
                "\n",
                "# 3x2 (3 rows, 2 columns) matrix with random numbers between [0, 1)\n",
                "m2 = np.random.rand(3, 2)\n",
                "print(m2)\n",
                "\n",
                "# 7x5 matrix (7 rows, 5 columns) with random numbers between 5 and 19\n",
                "m3 = np.random.randint(5, 19, size=(7, 5))\n",
                "print(m3)"
            ]
        },
        {
            "attachments": {},
            "cell_type": "markdown",
            "id": "fe0d8d03",
            "metadata": {},
            "source": [
                "**Tensors**: Tensors are a matrix of numbers or functions that transmute with certain rules when the coordinates change. Usually, the work with tensors is more advanced and requires more Machine Learning and model-oriented libraries like `TensorFlow` or `PyTorch`.\n",
                "\n",
                "**Machine Learning** is the contact point for Computer Science and Statistics.\n",
                "\n",
                "### Vectors\n",
                "\n",
                "Since scalars exist to represent values, why are vectors necessary? One of the main use cases for vectors is to represent physical quantities that have both a magnitude and a direction. Scalars are only capable of representing magnitudes.\n",
                "\n",
                "For example, scalars and vectors encode the difference between the speed of a car and its velocity. The velocity contains not only its speed, but also its direction of travel.\n",
                "\n",
                "In Machine Learning, vectors often represent feature vectors, with their individual components specifying how important a particular feature is. Such features might include the relative importance of words in a text document, the intensity of a set of pixels in a two-dimensional image, or historical price values for a representative sample of financial instruments.\n",
                "\n",
                "**Scalar Operations**\n",
                "\n",
                "Scalar operations involve a vector and a number.\n"
            ]
        },
        {
            "attachments": {},
            "cell_type": "markdown",
            "id": "ef717237",
            "metadata": {},
            "source": [
                "![linear_algebra_scalar_operations.png](https://github.com/4GeeksAcademy/machine-learning-content/blob/master/assets/linear_algebra_scalar_operations.png?raw=true)"
            ]
        },
        {
            "cell_type": "code",
            "execution_count": 3,
            "id": "2d55183a",
            "metadata": {},
            "outputs": [
                {
                    "name": "stdout",
                    "output_type": "stream",
                    "text": [
                        "[3 4 5 6]\n",
                        "[0 1 2 3]\n",
                        "[10 20 30 40]\n",
                        "[0.2 0.4 0.6 0.8]\n"
                    ]
                }
            ],
            "source": [
                "# Adding a scalar and a vector. In the following example, each element of the vector will have a 2 added to it\n",
                "a1 = np.array([1, 2, 3, 4])\n",
                "print(a1 + 2)\n",
                "\n",
                "# Subtract a scalar and a vector. In the following example, each element of the vector will have a 1 subtracted from it\n",
                "print(a1 - 1)\n",
                "\n",
                "# Multiplying a scalar and a vector. In the following example, each element of the vector will be multiplied by 10\n",
                "print(a1 * 10)\n",
                "\n",
                "# Dividing a scalar and a vector. In the following example, each element of the vector will be divided by 5\n",
                "print(a1 / 5)"
            ]
        },
        {
            "attachments": {},
            "cell_type": "markdown",
            "id": "ae8ef9bb",
            "metadata": {},
            "source": [
                "**Vector multiplication**\n",
                "\n",
                "There are two types of vector multiplication: dot product and Hadamard product.\n",
                "\n",
                "The dot product of two vectors is a scalar. The dot product of vectors and matrices (matrix multiplication) is one of the most important operations in deep learning."
            ]
        },
        {
            "attachments": {},
            "cell_type": "markdown",
            "id": "146d59b5",
            "metadata": {},
            "source": [
                "![linear_algebra_dot_product.png](https://github.com/4GeeksAcademy/machine-learning-content/blob/master/assets/linear_algebra_dot_product.png?raw=true)"
            ]
        },
        {
            "cell_type": "code",
            "execution_count": 4,
            "id": "e8d5c787",
            "metadata": {},
            "outputs": [
                {
                    "data": {
                        "text/plain": [
                            "133.33333333333334"
                        ]
                    },
                    "execution_count": 4,
                    "metadata": {},
                    "output_type": "execute_result"
                }
            ],
            "source": [
                "a1 = np.array([1, 2, 3, 4])\n",
                "a2 = np.linspace(0, 20, 4)\n",
                "\n",
                "a1.dot(a2)"
            ]
        },
        {
            "attachments": {},
            "cell_type": "markdown",
            "id": "dcd1d399",
            "metadata": {},
            "source": [
                "The Hadamard product is a multiplication by elements that generates a vector."
            ]
        },
        {
            "attachments": {},
            "cell_type": "markdown",
            "id": "a472d811",
            "metadata": {},
            "source": [
                "![linear_algebra_hadamard_product.png](https://github.com/4GeeksAcademy/machine-learning-content/blob/master/assets/linear_algebra_hadamard_product.png?raw=true)"
            ]
        },
        {
            "cell_type": "code",
            "execution_count": 5,
            "id": "f3ff69ba",
            "metadata": {},
            "outputs": [
                {
                    "data": {
                        "text/plain": [
                            "array([10, 20, 30, 40])"
                        ]
                    },
                    "execution_count": 5,
                    "metadata": {},
                    "output_type": "execute_result"
                }
            ],
            "source": [
                "a1 = np.array([1, 2, 3, 4])\n",
                "a2 = np.array([10, 10, 10, 10])\n",
                "\n",
                "a1 * a2"
            ]
        },
        {
            "attachments": {},
            "cell_type": "markdown",
            "id": "72c4b002",
            "metadata": {},
            "source": [
                "### Matrices\n",
                "\n",
                "A **matrix** is a rectangular grid of numbers or terms (like an Excel spreadsheet) with special rules for addition, subtraction, and multiplication.\n",
                "\n",
                "Matrix dimensions: We describe the dimensions of a matrix in terms of rows by columns.\n",
                "\n",
                "**Scalar matrix operations**\n",
                "\n",
                "Scalar operations with matrices work the same way as with vectors.\n",
                "\n",
                "You simply apply the scalar to each element of the matrix - add, subtract, divide, multiply, etc."
            ]
        },
        {
            "attachments": {},
            "cell_type": "markdown",
            "id": "5d17dd5a",
            "metadata": {},
            "source": [
                "![matrix_scalar_operations.png](https://github.com/4GeeksAcademy/machine-learning-content/blob/master/assets/matrix_scalar_operations.png?raw=true)"
            ]
        },
        {
            "cell_type": "code",
            "execution_count": 6,
            "id": "08ab37bd",
            "metadata": {},
            "outputs": [
                {
                    "name": "stdout",
                    "output_type": "stream",
                    "text": [
                        "[[11 12 13 14]\n",
                        " [15 16 17 18]]\n",
                        "[[-4 -3 -2 -1]\n",
                        " [ 0  1  2  3]]\n",
                        "[[ 3  6  9 12]\n",
                        " [15 18 21 24]]\n",
                        "[[0.5 1.  1.5 2. ]\n",
                        " [2.5 3.  3.5 4. ]]\n"
                    ]
                }
            ],
            "source": [
                "# Add a scalar and a matrix (in this case of 2 rows and 4 columns). In the following example, each element of the matrix will have a 10 added to it\n",
                "m1 = np.array([[1, 2, 3, 4], [5, 6, 7, 8]])\n",
                "print(m1 + 10)\n",
                "\n",
                "# Subtract a scalar and a matrix. In the following example, each element of the matrix will have a 5 subtracted from it\n",
                "print(m1 - 5)\n",
                "\n",
                "# Multiplying a scalar and a matrix. In the following example, each element of the matrix will be multiplied by 3\n",
                "print(m1 * 3)\n",
                "\n",
                "# Dividing a scalar and a matrix. In the following example, each element of the matrix will be divided by 2\n",
                "print(m1 / 2)"
            ]
        },
        {
            "attachments": {},
            "cell_type": "markdown",
            "id": "f9058573",
            "metadata": {},
            "source": [
                "**Operations with matrix elements**\n",
                "\n",
                "To add, subtract or divide two matrices they must have the same dimensions. We combine the corresponding values in an elementary way to produce a new matrix."
            ]
        },
        {
            "attachments": {},
            "cell_type": "markdown",
            "id": "f82a710e",
            "metadata": {},
            "source": [
                "![matrix_elementwise_operations.png](https://github.com/4GeeksAcademy/machine-learning-content/blob/master/assets/matrix_elementwise_operations.png?raw=true)"
            ]
        },
        {
            "cell_type": "code",
            "execution_count": 7,
            "id": "fe8fdd2b",
            "metadata": {},
            "outputs": [
                {
                    "name": "stdout",
                    "output_type": "stream",
                    "text": [
                        "[[ 3  6  9 12]\n",
                        " [ 4  4  4  4]]\n",
                        "[[-1 -2 -3 -4]\n",
                        " [ 6  8 10 12]]\n",
                        "[[ 0.5         0.5         0.5         0.5       ]\n",
                        " [-5.         -3.         -2.33333333 -2.        ]]\n"
                    ]
                }
            ],
            "source": [
                "m1 = np.array([[1, 2, 3, 4], [5, 6, 7, 8]])\n",
                "m2 = np.array([[2, 4, 6, 8], [-1, -2, -3, -4]])\n",
                "\n",
                "# Add two matrices. They must have the same dimension (same number of rows and columns). The elements in the same position as the first matrix and the second matrix are added together\n",
                "print(m1 + m2)\n",
                "\n",
                "# Subtract two matrices. They must have the same dimension (same number of rows and columns). The elements in the same position as the first matrix and the second matrix are subtracted\n",
                "print(m1 - m2)\n",
                "\n",
                "# Split two matrices. They must have the same dimension (same number of rows and columns). The elements in the same position as the first matrix and the second matrix are divided\n",
                "print(m1 / m2)"
            ]
        },
        {
            "attachments": {},
            "cell_type": "markdown",
            "id": "51e19bb2",
            "metadata": {},
            "source": [
                "**Matrix multiplication**\n",
                "\n",
                "There are two types of matrix multiplication: dot product and Hadamard product.\n",
                "\n",
                "The dot product of two matrices is a matrix with the number of rows in the first matrix and the number of columns in the second matrix. There must be equality between the number of columns in the first and the number of rows in the second. That is, if matrix \"A\" has dimensions of $5$ x $3$ (5 rows and 3 columns) and matrix \"B\" has dimensions of $3$ x $2$ (3 rows and 2 columns), the resulting matrix after multiplying them will have dimensions of $5$ x $2$ (and they can be multiplied because the first one has 3 columns and the second one has 3 rows).\n",
                "\n",
                "In the dot product of matrices, the element $c_{ij}$ of the product matrix is obtained by multiplying each element of row $i$ of matrix \"A\" by each element of column $j$ of matrix \"B\" and adding them together."
            ]
        },
        {
            "cell_type": "code",
            "execution_count": 8,
            "id": "51cff7f3",
            "metadata": {},
            "outputs": [
                {
                    "data": {
                        "text/plain": [
                            "array([[-1, -2],\n",
                            "       [15, 22]])"
                        ]
                    },
                    "execution_count": 8,
                    "metadata": {},
                    "output_type": "execute_result"
                }
            ],
            "source": [
                "m1 = np.array([[1, 2, 3, 4], [5, 6, 7, 8]])\n",
                "m2 = np.array([[2, 4], [6, 8], [-1, -2], [-3, -4]])\n",
                "\n",
                "m1.dot(m2)"
            ]
        },
        {
            "attachments": {},
            "cell_type": "markdown",
            "id": "e2a1331e",
            "metadata": {},
            "source": [
                "The Hadamard product of matrices is an elementary operation. Positionally corresponding values are multiplied to produce a new matrix."
            ]
        },
        {
            "attachments": {},
            "cell_type": "markdown",
            "id": "6424f65e",
            "metadata": {},
            "source": [
                "![matrix_hadamard_operations.png](https://github.com/4GeeksAcademy/machine-learning-content/blob/master/assets/matrix_hadamard_operations.png?raw=true)"
            ]
        },
        {
            "cell_type": "code",
            "execution_count": 9,
            "id": "13f82bb0",
            "metadata": {},
            "outputs": [
                {
                    "data": {
                        "text/plain": [
                            "array([[  2,   8,  18,  32],\n",
                            "       [ -5, -12, -21, -32]])"
                        ]
                    },
                    "execution_count": 9,
                    "metadata": {},
                    "output_type": "execute_result"
                }
            ],
            "source": [
                "m1 = np.array([[1, 2, 3, 4], [5, 6, 7, 8]])\n",
                "m2 = np.array([[2, 4, 6, 8], [-1, -2, -3, -4]])\n",
                "\n",
                "m1 * m2"
            ]
        },
        {
            "attachments": {},
            "cell_type": "markdown",
            "id": "2800ccac",
            "metadata": {},
            "source": [
                "**Matrix transpose**\n",
                "\n",
                "Matrix transposing provides a way to \"rotate\" one of the matrices so that the operation meets the multiplication requirements and can continue.\n",
                "\n",
                "There are two steps to transpose a matrix:\n",
                "\n",
                "1. Rotate the matrix 90° to the right.\n",
                "2. Reverse the order of the elements in each row (e.g., $[a b c]$ becomes $[c b a]$)."
            ]
        },
        {
            "cell_type": "code",
            "execution_count": 10,
            "id": "932c5dee",
            "metadata": {},
            "outputs": [
                {
                    "data": {
                        "text/plain": [
                            "array([[1, 5],\n",
                            "       [2, 6],\n",
                            "       [3, 7],\n",
                            "       [4, 8]])"
                        ]
                    },
                    "execution_count": 10,
                    "metadata": {},
                    "output_type": "execute_result"
                }
            ],
            "source": [
                "m1 = np.array([[1, 2, 3, 4], [5, 6, 7, 8]])\n",
                "\n",
                "m1.T"
            ]
        },
        {
            "cell_type": "code",
            "execution_count": 11,
            "id": "8c6b6aa3",
            "metadata": {},
            "outputs": [
                {
                    "data": {
                        "text/plain": [
                            "array([[1, 5],\n",
                            "       [2, 6],\n",
                            "       [3, 7],\n",
                            "       [4, 8]])"
                        ]
                    },
                    "execution_count": 11,
                    "metadata": {},
                    "output_type": "execute_result"
                }
            ],
            "source": [
                "m1.transpose()"
            ]
        },
        {
            "attachments": {},
            "cell_type": "markdown",
            "id": "51b654e8",
            "metadata": {},
            "source": [
                "### Applications of linear algebra\n",
                "\n",
                "Linear algebra has a direct impact on all processes involving data processing:\n",
                "\n",
                "- The data in a dataset is vectorized. Rows are inserted into a model one at a time for easier and more authentic calculations.\n",
                "- All images have a tabular (matrix) structure. Image editing techniques, such as cropping and scaling, use algebraic operations.\n",
                "- Regularization is a method that minimizes the size of coefficients while inserting them into the data.\n",
                "- Deep learning works with vectors, matrices and even tensors, as it requires aggregated and multiplied linear data structures.\n",
                "- The 'One hot encoding' method encodes categories to facilitate algebraic operations.\n",
                "- In linear regression, linear algebra is used to describe the relationship between variables.\n",
                "- When we find irrelevant data, we usually eliminate redundant columns, so PCA works with matrix factorization.\n",
                "- With the help of linear algebra, recommender systems can have more refined data."
            ]
        }
    ],
    "metadata": {
        "interpreter": {
            "hash": "9248718ffe6ce6938b217e69dbcc175ea21f4c6b28a317e96c05334edae734bb"
        },
        "kernelspec": {
            "display_name": "Python 3.9.12 ('ML-BOOTCAMP')",
            "language": "python",
            "name": "python3"
        },
        "language_info": {
            "codemirror_mode": {
                "name": "ipython",
                "version": 3
            },
            "file_extension": ".py",
            "mimetype": "text/x-python",
            "name": "python",
            "nbconvert_exporter": "python",
            "pygments_lexer": "ipython3",
            "version": "3.11.4"
        }
    },
    "nbformat": 4,
    "nbformat_minor": 5
}
