{
    "cells": [
        {
            "attachments": {},
            "cell_type": "markdown",
            "id": "52d41e2c",
            "metadata": {},
            "source": [
                "## Álgebra Lineal"
            ]
        },
        {
            "attachments": {},
            "cell_type": "markdown",
            "id": "c6736e5d",
            "metadata": {},
            "source": [
                "El **álgebra lineal** (*linear algebra*) es la rama de la matemática sobre ecuaciones lineales que utiliza espacio vectorial y matrices.\n",
                "\n",
                "Las dos entidades matemáticas primarias que son de interés en álgebra lineal son el **vector** y la **matriz**. Son ejemplos de una entidad más general conocida como tensor. Los tensores poseen un orden (o rango), que determina el número de dimensiones en una matriz requerida para representarlo.\n",
                "\n",
                "**Vectores**: Conjunto de elementos numéricos de un tamaño concreto y unidimensionales. Por ejemplo:\n",
                "\n",
                "$$\\begin{matrix} 3 \\\\ 4 \\\\ 5 \\end{matrix}$$\n",
                "\n",
                "`numpy` es la librería por excelencia para trabajar con estas estructuras de datos. Algunos ejemplos para generar vectores aleatorios son:"
            ]
        },
        {
            "cell_type": "code",
            "execution_count": 1,
            "id": "f13403ab",
            "metadata": {},
            "outputs": [
                {
                    "name": "stdout",
                    "output_type": "stream",
                    "text": [
                        "[1. 1. 1. 1. 1. 1. 1. 1. 1. 1.]\n",
                        "[ 3.          4.33333333  5.66666667  7.          8.33333333  9.66666667\n",
                        " 11.         12.33333333 13.66666667 15.        ]\n",
                        "[0.12715942 0.3056227  0.71055388 0.44321445 0.35334492 0.51475536\n",
                        " 0.04955689 0.94457741 0.30782969 0.73833549]\n",
                        "[7 4 9 5 5 8 7 6 6 6]\n"
                    ]
                }
            ],
            "source": [
                "import numpy as np\n",
                "\n",
                "# Vector de 10 unos\n",
                "a1 = np.ones(10)\n",
                "print(a1)\n",
                "\n",
                "# Vector de 10 números que tienen la misma distancia entre sí, empezando por el 3 y acabando por el 15\n",
                "a2 = np.linspace(3, 15, 10)\n",
                "print(a2)\n",
                "\n",
                "# Vector de 10 números aleatorios entre [0, 1)\n",
                "a3 = np.random.rand(10)\n",
                "print(a3)\n",
                "\n",
                "# Vector de 10 números aleatorios entre [1, 10)\n",
                "a4 = np.random.randint(1, 10, size=10)\n",
                "print(a4)"
            ]
        },
        {
            "attachments": {},
            "cell_type": "markdown",
            "id": "bd631630",
            "metadata": {},
            "source": [
                "**Matriz**: Conjunto de vectores que conforman una estructura rectangular con filas y columnas. Por ejemplo:\n",
                "\n",
                "$$\\begin{matrix} 3 & 4 \\\\ 5 & 6 \\end{matrix}$$\n",
                "\n",
                "Con `numpy` también se puede trabajar para generar matrices. Algunos ejemplos para generarlas son:"
            ]
        },
        {
            "cell_type": "code",
            "execution_count": 2,
            "id": "8948deb3",
            "metadata": {},
            "outputs": [
                {
                    "name": "stdout",
                    "output_type": "stream",
                    "text": [
                        "[[1. 0. 0. 0. 0.]\n",
                        " [0. 1. 0. 0. 0.]\n",
                        " [0. 0. 1. 0. 0.]\n",
                        " [0. 0. 0. 1. 0.]\n",
                        " [0. 0. 0. 0. 1.]]\n",
                        "[[0.08351724 0.12576021]\n",
                        " [0.66183613 0.7666305 ]\n",
                        " [0.87509394 0.05511234]]\n",
                        "[[17 10 11 10 15]\n",
                        " [17 17  7 12 15]\n",
                        " [17  8  6  9 15]\n",
                        " [15 11 14 14 18]\n",
                        " [16 17 15 10 10]\n",
                        " [12 15 15 10  8]\n",
                        " [ 6 10 11 18  6]]\n"
                    ]
                }
            ],
            "source": [
                "# Matriz identidad de 5x5 (5 filas, 5 columnas)\n",
                "m1 = np.identity(5)\n",
                "print(m1)\n",
                "\n",
                "# Matriz de 3x2 (3 filas, 2 columnas) con números aleatorios entre [0, 1)\n",
                "m2 = np.random.rand(3, 2)\n",
                "print(m2)\n",
                "\n",
                "# Matriz de 7x5 (7 filas, 5 columnas) con números aleatorios entre 5 y 19\n",
                "m3 = np.random.randint(5, 19, size=(7, 5))\n",
                "print(m3)"
            ]
        },
        {
            "attachments": {},
            "cell_type": "markdown",
            "id": "fe0d8d03",
            "metadata": {},
            "source": [
                "**Tensores**: Los tensores son una matriz de números o funciones que se transmutan con ciertas reglas cuando cambian las coordenadas. Normalmente, el trabajo con tensores es más avanzado y requiere de librerías más orientadas al Machine Learning y a los modelos como `TensorFlow` o `PyTorch`.\n",
                "\n",
                "El ***Machine Learning*** es el punto de contacto para Ciencias Informáticas y Estadística.\n",
                "\n",
                "### Vectores\n",
                "\n",
                "Dado que los escalares existen para representar valores, ¿por qué son necesarios los vectores? Uno de los principales casos de uso de los **vectores** es representar cantidades físicas que tienen tanto una magnitud como una dirección. Los escalares solo son capaces de representar magnitudes.\n",
                "\n",
                "Por ejemplo, los escalares y los vectores marcan su diferencia entre la rapidez de un automóvil y su velocidad. La velocidad contiene no solo su rapidez, sino que también su dirección de viaje.\n",
                "\n",
                "En Machine Learning los vectores a menudo representan vectores de características, con sus componentes individuales especificando qué tan importante es una característica en particular. Tales características podrían incluir la importancia relativa de las palabras en un documento de texto, la intensidad de un conjunto de píxeles en una imagen bidimensional o valores de precios históricos para una muestra representativa de instrumentos financieros.\n",
                "\n",
                "**Operaciones Escalares**\n",
                "\n",
                "Las operaciones escalares involucran un vector y un número.\n"
            ]
        },
        {
            "attachments": {},
            "cell_type": "markdown",
            "id": "ef717237",
            "metadata": {},
            "source": [
                "![linear_algebra_scalar_operations.png](https://github.com/4GeeksAcademy/machine-learning-content/blob/master/assets/linear_algebra_scalar_operations.png?raw=true)"
            ]
        },
        {
            "cell_type": "code",
            "execution_count": 3,
            "id": "2d55183a",
            "metadata": {},
            "outputs": [
                {
                    "name": "stdout",
                    "output_type": "stream",
                    "text": [
                        "[3 4 5 6]\n",
                        "[0 1 2 3]\n",
                        "[10 20 30 40]\n",
                        "[0.2 0.4 0.6 0.8]\n"
                    ]
                }
            ],
            "source": [
                "# Sumar un escalar y un vector. En el siguiente ejemplo, a cada elemento del vector se le sumará 2\n",
                "a1 = np.array([1, 2, 3, 4])\n",
                "print(a1 + 2)\n",
                "\n",
                "# Restar un escalar y un vector. En el siguiente ejemplo, a cada elemento del vector se le restará 1\n",
                "print(a1 - 1)\n",
                "\n",
                "# Multiplicar un escalar y un vector. En el siguiente ejemplo, a cada elemento del vector se le multiplicará por 10\n",
                "print(a1 * 10)\n",
                "\n",
                "# Dividir un escalar y un vector. En el siguiente ejemplo, a cada elemento del vector se le dividirá entre 5\n",
                "print(a1 / 5)"
            ]
        },
        {
            "attachments": {},
            "cell_type": "markdown",
            "id": "ae8ef9bb",
            "metadata": {},
            "source": [
                "**Multiplicación de vectores**\n",
                "\n",
                "Hay dos tipos de multiplicación vectorial: producto punto y producto de Hadamard.\n",
                "\n",
                "El producto punto de dos vectores es un escalar. El producto punto de vectores y matrices (multiplicación de matrices) es una de las operaciones más importantes en el aprendizaje profundo."
            ]
        },
        {
            "attachments": {},
            "cell_type": "markdown",
            "id": "146d59b5",
            "metadata": {},
            "source": [
                "![linear_algebra_dot_product.png](https://github.com/4GeeksAcademy/machine-learning-content/blob/master/assets/linear_algebra_dot_product.png?raw=true)"
            ]
        },
        {
            "cell_type": "code",
            "execution_count": 4,
            "id": "e8d5c787",
            "metadata": {},
            "outputs": [
                {
                    "data": {
                        "text/plain": [
                            "133.33333333333334"
                        ]
                    },
                    "execution_count": 4,
                    "metadata": {},
                    "output_type": "execute_result"
                }
            ],
            "source": [
                "a1 = np.array([1, 2, 3, 4])\n",
                "a2 = np.linspace(0, 20, 4)\n",
                "\n",
                "a1.dot(a2)"
            ]
        },
        {
            "attachments": {},
            "cell_type": "markdown",
            "id": "dcd1d399",
            "metadata": {},
            "source": [
                "El producto de Hadamard es una multiplicación por elementos y genera un vector."
            ]
        },
        {
            "attachments": {},
            "cell_type": "markdown",
            "id": "a472d811",
            "metadata": {},
            "source": [
                "![linear_algebra_hadamard_product.png](https://github.com/4GeeksAcademy/machine-learning-content/blob/master/assets/linear_algebra_hadamard_product.png?raw=true)"
            ]
        },
        {
            "cell_type": "code",
            "execution_count": 5,
            "id": "f3ff69ba",
            "metadata": {},
            "outputs": [
                {
                    "data": {
                        "text/plain": [
                            "array([10, 20, 30, 40])"
                        ]
                    },
                    "execution_count": 5,
                    "metadata": {},
                    "output_type": "execute_result"
                }
            ],
            "source": [
                "a1 = np.array([1, 2, 3, 4])\n",
                "a2 = np.array([10, 10, 10, 10])\n",
                "\n",
                "a1 * a2"
            ]
        },
        {
            "attachments": {},
            "cell_type": "markdown",
            "id": "72c4b002",
            "metadata": {},
            "source": [
                "### Matrices\n",
                "\n",
                "Una **matriz** (*matrix*) es una cuadrícula rectangular de números o elementos (como una hoja de cálculo de Excel) con reglas especiales para sumar, restar y multiplicar.\n",
                "\n",
                "Dimensiones de la matriz: Describimos las dimensiones de una matriz en términos de filas por columnas.\n",
                "\n",
                "**Operaciones escalares de matrices**\n",
                "\n",
                "Las operaciones escalares con matrices funcionan de la misma manera que con los vectores.\n",
                "\n",
                "Simplemente, aplica el escalar a cada elemento de la matriz — suma, resta, divide, multiplica, etc.\n"
            ]
        },
        {
            "attachments": {},
            "cell_type": "markdown",
            "id": "5d17dd5a",
            "metadata": {},
            "source": [
                "![matrix_scalar_operations.png](https://github.com/4GeeksAcademy/machine-learning-content/blob/master/assets/matrix_scalar_operations.png?raw=true)"
            ]
        },
        {
            "cell_type": "code",
            "execution_count": 6,
            "id": "08ab37bd",
            "metadata": {},
            "outputs": [
                {
                    "name": "stdout",
                    "output_type": "stream",
                    "text": [
                        "[[11 12 13 14]\n",
                        " [15 16 17 18]]\n",
                        "[[-4 -3 -2 -1]\n",
                        " [ 0  1  2  3]]\n",
                        "[[ 3  6  9 12]\n",
                        " [15 18 21 24]]\n",
                        "[[0.5 1.  1.5 2. ]\n",
                        " [2.5 3.  3.5 4. ]]\n"
                    ]
                }
            ],
            "source": [
                "# Sumar un escalar y una matriz (en este caso de 2 filas y 4 columnas). En el siguiente ejemplo, a cada elemento de la matriz se le sumará 10\n",
                "m1 = np.array([[1, 2, 3, 4], [5, 6, 7, 8]])\n",
                "print(m1 + 10)\n",
                "\n",
                "# Restar un escalar y una matriz. En el siguiente ejemplo, a cada elemento de la matriz se le restará 5\n",
                "print(m1 - 5)\n",
                "\n",
                "# Multiplicar un escalar y una matriz. En el siguiente ejemplo, a cada elemento de la matriz se le multiplicará por 3\n",
                "print(m1 * 3)\n",
                "\n",
                "# Dividir un escalar y una matriz. En el siguiente ejemplo, a cada elemento de la matriz se le dividirá entre 2\n",
                "print(m1 / 2)"
            ]
        },
        {
            "attachments": {},
            "cell_type": "markdown",
            "id": "f9058573",
            "metadata": {},
            "source": [
                "**Operaciones con matrices**\n",
                "\n",
                "Para sumar, restar o dividir dos matrices deben tener las mismas dimensiones. Combinamos los valores correspondientes de forma elemental para producir una nueva matriz."
            ]
        },
        {
            "attachments": {},
            "cell_type": "markdown",
            "id": "f82a710e",
            "metadata": {},
            "source": [
                "![matrix_elementwise_operations.png](https://github.com/4GeeksAcademy/machine-learning-content/blob/master/assets/matrix_elementwise_operations.png?raw=true)"
            ]
        },
        {
            "cell_type": "code",
            "execution_count": 7,
            "id": "fe8fdd2b",
            "metadata": {},
            "outputs": [
                {
                    "name": "stdout",
                    "output_type": "stream",
                    "text": [
                        "[[ 3  6  9 12]\n",
                        " [ 4  4  4  4]]\n",
                        "[[-1 -2 -3 -4]\n",
                        " [ 6  8 10 12]]\n",
                        "[[ 0.5         0.5         0.5         0.5       ]\n",
                        " [-5.         -3.         -2.33333333 -2.        ]]\n"
                    ]
                }
            ],
            "source": [
                "m1 = np.array([[1, 2, 3, 4], [5, 6, 7, 8]])\n",
                "m2 = np.array([[2, 4, 6, 8], [-1, -2, -3, -4]])\n",
                "\n",
                "# Sumar dos matrices. Deben tener la misma dimensión (mismo número de filas y de columnas). Se suman los elementos en la misma posición de la primera matriz y de la segunda\n",
                "print(m1 + m2)\n",
                "\n",
                "# Restar dos matrices. Deben tener la misma dimensión (mismo número de filas y de columnas). Se restan los elementos en la misma posición de la primera matriz y de la segunda\n",
                "print(m1 - m2)\n",
                "\n",
                "# Dividir dos matrices. Deben tener la misma dimensión (mismo número de filas y de columnas). Se dividen los elementos en la misma posición de la primera matriz y de la segunda\n",
                "print(m1 / m2)"
            ]
        },
        {
            "attachments": {},
            "cell_type": "markdown",
            "id": "51e19bb2",
            "metadata": {},
            "source": [
                "**Multiplicación de matrices**\n",
                "\n",
                "Hay dos tipos de multiplicación de matrices: producto punto y producto de Hadamard.\n",
                "\n",
                "El producto punto de dos matrices es una matriz con el número de filas de la primera y el número de columnas de la segunda. Tiene que haber igualdad entre el número de columnas de la primera y el número de filas de la segunda. Esto es, si la matriz \"A\" tiene unas dimensiones de $5$ x $3$ (5 filas y 3 columnas) y la matriz \"B\" unas dimensiones de $3$ x $2$ (3 filas y 2 columnas), la matriz resultante tras multiplicarlas tendrá unas dimensiones de $5$ x $2$ (y se pueden multiplicar porque la primera tiene 3 columnas y la segunda 3 filas).\n",
                "\n",
                "En el producto punto de matrices, el elemento $c_{ij}$ de la matriz producto se obtiene multiplicando cada elemento de la fila $i$ de la matriz A por cada elemento de la columna $j$ de la matriz B y sumándolos."
            ]
        },
        {
            "cell_type": "code",
            "execution_count": 8,
            "id": "51cff7f3",
            "metadata": {},
            "outputs": [
                {
                    "data": {
                        "text/plain": [
                            "array([[-1, -2],\n",
                            "       [15, 22]])"
                        ]
                    },
                    "execution_count": 8,
                    "metadata": {},
                    "output_type": "execute_result"
                }
            ],
            "source": [
                "m1 = np.array([[1, 2, 3, 4], [5, 6, 7, 8]])\n",
                "m2 = np.array([[2, 4], [6, 8], [-1, -2], [-3, -4]])\n",
                "\n",
                "m1.dot(m2)"
            ]
        },
        {
            "attachments": {},
            "cell_type": "markdown",
            "id": "e2a1331e",
            "metadata": {},
            "source": [
                "El producto de Hadamard de matrices es una operación elemental. Los valores que corresponden posicionalmente se multiplican para producir una nueva matriz."
            ]
        },
        {
            "attachments": {},
            "cell_type": "markdown",
            "id": "6424f65e",
            "metadata": {},
            "source": [
                "![matrix_hadamard_operations.png](https://github.com/4GeeksAcademy/machine-learning-content/blob/master/assets/matrix_hadamard_operations.png?raw=true)"
            ]
        },
        {
            "cell_type": "code",
            "execution_count": 9,
            "id": "13f82bb0",
            "metadata": {},
            "outputs": [
                {
                    "data": {
                        "text/plain": [
                            "array([[  2,   8,  18,  32],\n",
                            "       [ -5, -12, -21, -32]])"
                        ]
                    },
                    "execution_count": 9,
                    "metadata": {},
                    "output_type": "execute_result"
                }
            ],
            "source": [
                "m1 = np.array([[1, 2, 3, 4], [5, 6, 7, 8]])\n",
                "m2 = np.array([[2, 4, 6, 8], [-1, -2, -3, -4]])\n",
                "\n",
                "m1 * m2"
            ]
        },
        {
            "attachments": {},
            "cell_type": "markdown",
            "id": "2800ccac",
            "metadata": {},
            "source": [
                "**Transposición de matriz:**\n",
                "\n",
                "La transposición de matriz proporciona una forma de \"rotar\" una de las matrices para que la operación cumpla con los requisitos de multiplicación y pueda continuar.\n",
                "\n",
                "Hay dos pasos para transponer una matriz:\n",
                "\n",
                "1. Rotar la matriz 90° a la derecha.\n",
                "2. Invierte el orden de los elementos en cada fila (por ejemplo, $[a b c]$ se convierte en $[c b a]$)\n"
            ]
        },
        {
            "cell_type": "code",
            "execution_count": 10,
            "id": "932c5dee",
            "metadata": {},
            "outputs": [
                {
                    "data": {
                        "text/plain": [
                            "array([[1, 5],\n",
                            "       [2, 6],\n",
                            "       [3, 7],\n",
                            "       [4, 8]])"
                        ]
                    },
                    "execution_count": 10,
                    "metadata": {},
                    "output_type": "execute_result"
                }
            ],
            "source": [
                "m1 = np.array([[1, 2, 3, 4], [5, 6, 7, 8]])\n",
                "\n",
                "m1.T"
            ]
        },
        {
            "cell_type": "code",
            "execution_count": 11,
            "id": "8c6b6aa3",
            "metadata": {},
            "outputs": [
                {
                    "data": {
                        "text/plain": [
                            "array([[1, 5],\n",
                            "       [2, 6],\n",
                            "       [3, 7],\n",
                            "       [4, 8]])"
                        ]
                    },
                    "execution_count": 11,
                    "metadata": {},
                    "output_type": "execute_result"
                }
            ],
            "source": [
                "m1.transpose()"
            ]
        },
        {
            "attachments": {},
            "cell_type": "markdown",
            "id": "51b654e8",
            "metadata": {},
            "source": [
                "### Aplicaciones del álgebra lineal\n",
                "\n",
                "El álgebra lineal tiene un impacto directo sobre todos los procesos que involucren el tratamiento de datos:\n",
                "\n",
                "- Los datos en un dataset (conjunto de datos) están vectorizados. Las filas se insertan en un modelo una a la vez para realizar cálculos más fáciles y auténticos.\n",
                "- Todas las imágenes tienen una estructura tabular (matriz). Las técnicas de edición de imágenes, como recortar y cambiar de tamaño, utilizan operaciones algebraicas.\n",
                "- La regularización es un método que minimiza el tamaño de los coeficientes mientras los inserta en los datos.\n",
                "- El aprendizaje profundo funciona con vectores, matrices e incluso tensores, ya que requiere estructuras de datos lineales agregadas y multiplicadas.\n",
                "- El método 'One hot encoding' codifica categorías para facilitar las operaciones de álgebra.\n",
                "- En la regresión lineal, se utiliza álgebra lineal para describir la relación entre las variables.\n",
                "- Cuando encontramos datos irrelevantes, normalmente eliminamos las columnas redundantes, por lo que PCA actúa con la factorización de matrices.\n",
                "- Con la ayuda del álgebra lineal, los sistemas de recomendación pueden tener datos más depurados."
            ]
        }
    ],
    "metadata": {
        "interpreter": {
            "hash": "9248718ffe6ce6938b217e69dbcc175ea21f4c6b28a317e96c05334edae734bb"
        },
        "kernelspec": {
            "display_name": "Python 3.9.12 ('ML-BOOTCAMP')",
            "language": "python",
            "name": "python3"
        },
        "language_info": {
            "codemirror_mode": {
                "name": "ipython",
                "version": 3
            },
            "file_extension": ".py",
            "mimetype": "text/x-python",
            "name": "python",
            "nbconvert_exporter": "python",
            "pygments_lexer": "ipython3",
            "version": "3.11.4"
        }
    },
    "nbformat": 4,
    "nbformat_minor": 5
}
