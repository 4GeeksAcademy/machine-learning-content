{
 "cells": [
  {
   "attachments": {},
   "cell_type": "markdown",
   "id": "e9ebad92",
   "metadata": {},
   "source": [
    "# Conectarse a bases de datos SQL usando Python\n",
    "\n",
    "Como expertos en Machine Learning y dependiendo de cómo esté preparada la información, seguramente tengamos que interactuar con bases de datos SQL. Es un flujo muy común el de consumir datos en Python a través de SQL o bases de datos no relacionales y utilizar Python para analizarlos, graficarlos, definirlos y en última instancia, elaborar un modelo predictivo. \n",
    "\n",
    "Algunas de las bases de datos SQL más utilizadas son SQLite, PostgreSQL y MySQL. SQLite es la mejor alternativa cuando queremos una base de datos portable, sin tener que usar un servidor por separado para ejecutarla. Es idónea para aplicaciones embebidas. Si queremos algo más escalable a futuro y una base de datos en aplicaciones distribuidas, entonces MySQL es una buena opción, mientras que PostgreSQL es una base de datos oportuna para aplicaciones complejas y se usa en la mayoría de soluciones empresariales.\n",
    "\n",
    "![Comparativa SQL](https://github.com/4GeeksAcademy/machine-learning-content/blob/master/assets/comparative_sql.png?raw=true)\n",
    "\n",
    "En esta lección veremos cómo interactúan Python y algunas bases de datos SQL. ¿Por qué deberíamos preocuparnos por conectar Python y una base de datos SQL? Tal vez, como expertos en Machine Learning, necesitemos construir un \"ETL pipeline\" (tubería ETL) automatizado. Conectar Python a una base de datos SQL nos permitirá usar Python para sus capacidades de automatización. También podremos comunicarnos entre diferentes fuentes de datos. No tendremos que cambiar entre diferentes lenguajes de programación, podremos usar nuestras habilidades de Python para manipular datos de una base de datos SQL y no necesitaremos un archivo CSV.\n",
    "\n",
    "## Conexión a SQLite\n",
    "\n",
    "Python tiene su propio *wrapper* para realizar una conexión a una base de datos SQLite. Además, este paquete viene instalado en la versión base y no es necesario instalar nada para empezar a usarlo. Debido a que la base de datos es sencilla, su código también:"
   ]
  },
  {
   "cell_type": "code",
   "execution_count": null,
   "id": "2c45ef71",
   "metadata": {},
   "outputs": [],
   "source": [
    "import sqlite3\n",
    "import pandas as pd\n",
    "\n",
    "# Conéctate a la base de datos o créala si no existe\n",
    "con = sqlite3.connect(\"test.db\")\n",
    "\n",
    "### CREATE: Generar una tabla llamada COMPANY con 5 columnas: ID, NAME, AGE, ADDRESS y SALARY\n",
    "con.execute(\"\"\"CREATE TABLE COMPANY (\n",
    "    ID INT PRIMARY KEY     NOT NULL,\n",
    "    NAME           TEXT    NOT NULL,\n",
    "    AGE            INT     NOT NULL,\n",
    "    ADDRESS        CHAR(50),\n",
    "    SALARY         REAL\n",
    ")\"\"\")\n",
    "\n",
    "### INSERT: Insertar registros en la tabla COMPANY\n",
    "con.execute(\"\"\"INSERT INTO COMPANY VALUES (1, 'Richard', 40, 'Spain', 20000.00)\"\"\")\n",
    "con.execute(\"\"\"INSERT INTO COMPANY VALUES (2, 'Óscar', 25, 'France', 15000.00)\"\"\")\n",
    "con.commit()\n",
    "\n",
    "### SELECT: Filtrar e imprimir algunos de los valores de la tabla\n",
    "# El cursor permite definir un conjunto de resultados\n",
    "cursor = con.execute(\"SELECT * from COMPANY\")\n",
    "for row in cursor: # Iterar a través de todas las filas del filtro resultante\n",
    "    print(f\"ID = {row[0]} NAME = {row[1]} ADDRESS = {row[2]} SALARY = {row[3]}\")\n",
    "\n",
    "# Los resultados también se pueden almacenar en un DataFrame usando Pandas\n",
    "cursor_df = pd.read_sql_query(\"SELECT * FROM COMPANY\", con)\n",
    "\n",
    "### UPDATE: Actualizar un registro en la tabla COMPANY\n",
    "con.execute(\"UPDATE COMPANY set SALARY = 25000.00 where ID = 1\")\n",
    "con.commit()\n",
    "\n",
    "### DELETE: Eliminar un registro de la tabla COMPANY\n",
    "con.execute(\"DELETE from COMPANY where ID = 2\")\n",
    "con.commit()\n",
    "\n",
    "### Terminar la conexión a la base de datos\n",
    "con.close()"
   ]
  },
  {
   "attachments": {},
   "cell_type": "markdown",
   "id": "81d29ded",
   "metadata": {},
   "source": [
    "Como se ha podido ver, este paquete proporciona una interfaz muy amigable para crear una base de datos portable y fácil de usar. Con simplemente dos sentencias, `con.execute()` y `con.commit()` podremos realizar prácticamente todo lo que necesitemos para interactuar con ella. En contraposición a `SQLAlchemy`, aquí es necesario saber la sintaxis de SQL."
   ]
  },
  {
   "attachments": {},
   "cell_type": "markdown",
   "id": "652675e3",
   "metadata": {},
   "source": [
    "## Conexión a MySQL\n",
    "\n",
    "Como lenguaje primordial para analizar datos, Python también tiene su propio *wrapper* para realizar una conexión a una base de datos MySQL, `PyMySQL`. Al tratarse de una base de datos propia, requiere previamente de una instalación en un servidor o sistema operativo y su instanciación para poder cerrar la conexión y poder utilizarla.\n",
    "\n",
    "### Conexión a la base de datos\n",
    "\n",
    "El propio MySQL nos permitirá crear una base de datos con simplemente pulsar a un botón e introducir un nombre. Luego, esta base de datos se puede referenciar al establecer la conexión. Si deseamos utilizar Python para crear una base de datos, simplemente omitiríamos el parámetro en la llamada, como se verá a continuación.\n",
    "\n",
    "#### 1. Base de datos creada con anterioridad\n",
    "\n",
    "En este caso introducimos la información como sigue para establecer la conexión."
   ]
  },
  {
   "cell_type": "code",
   "execution_count": null,
   "id": "202a26e1",
   "metadata": {},
   "outputs": [],
   "source": [
    "import pymysql\n",
    "\n",
    "con = pymysql.connect(host = \"localhost\",\n",
    "    user = \"root\", \n",
    "    password = \"pass\",\n",
    "    db = \"my_database\", # Nombre de la base de datos si la hemos creado antes\n",
    ")"
   ]
  },
  {
   "attachments": {},
   "cell_type": "markdown",
   "id": "451bc781",
   "metadata": {},
   "source": [
    "#### 2. Base de datos no creada\n",
    "\n",
    "En este caso simplemente eliminamos el argumento `db` de la llamada y ejecutamos la sentencia de creación. Para ello utilizamos la sentencia `cur.execute()` (este paquete requiere que se defina un cursor para cada llamada) y después la seleccionamos con `con.select_db()`:"
   ]
  },
  {
   "cell_type": "code",
   "execution_count": null,
   "id": "080b6230",
   "metadata": {},
   "outputs": [],
   "source": [
    "import pymysql\n",
    "\n",
    "# Conectar al servidor MySQL\n",
    "con = pymysql.connect(host='localhost',\n",
    "    user='root',\n",
    "    password='password')\n",
    "\n",
    "# Crear un objeto cursor\n",
    "cur = con.cursor()\n",
    "\n",
    "# Ejecutar consulta SQL para crear una nueva base de datos\n",
    "database_name = 'my_database'\n",
    "cur.execute(f\"CREATE DATABASE {database_name}\")\n",
    "\n",
    "# Cambiar a la base de datos recién creada\n",
    "cur.execute(f\"USE {database_name}\")\n",
    "\n",
    "# Crear una nueva tabla\n",
    "cur.execute(\"\"\"\n",
    "CREATE TABLE IF NOT EXISTS COMPANY (\n",
    "    ID INT PRIMARY KEY NOT NULL,\n",
    "    NAME    TEXT       NOT NULL,\n",
    "    AGE     INT        NOT NULL,\n",
    "    ADDRESS CHAR(50),\n",
    "    SALARY  REAL\n",
    ")\n",
    "\"\"\")\n",
    "\n",
    "# Cerrar cursor y conexión cuando hayamos terminado\n",
    "cur.close()\n",
    "con.close()"
   ]
  },
  {
   "attachments": {},
   "cell_type": "markdown",
   "id": "6db04946",
   "metadata": {},
   "source": [
    "### Uso de la base de datos\n",
    "\n",
    "La ejecución de las sentencias que ya conocemos sobre la base de datos es igual que en el caso de SQLite, con las funciones `cur.execute()` y `con.commit()`, pero con la diferencia de que la ejecución se realiza con el cursor y no con la conexión propia."
   ]
  },
  {
   "cell_type": "code",
   "execution_count": null,
   "id": "37be19ed",
   "metadata": {},
   "outputs": [],
   "source": [
    "### INSERT: Insertar registros en la tabla COMPANY\n",
    "cur.execute(\"\"\"INSERT INTO COMPANY VALUES (1, 'Richard', 40, 'Spain', 20000.00)\"\"\")\n",
    "cur.execute(\"\"\"INSERT INTO COMPANY VALUES (2, 'Óscar', 25, 'France', 15000.00)\"\"\")\n",
    "con.commit()\n",
    "\n",
    "### SELECT: Filtrar de entre los valores de la base de datos\n",
    "#  El cursor permite definir un conjunto de resultados\n",
    "cur.execute(\"SELECT * from COMPANY\")\n",
    "rows = cur.fetchall()\n",
    "for row in rows: # Itera por todas las filas del filtro resultante\n",
    "    print(f\"ID = {row[0]} NAME = {row[1]} ADDRESS = {row[2]} SALARY = {row[3]}\")\n",
    "\n",
    "# También se pueden almacenar los resultados en un DataFrame usando Pandas\n",
    "import pandas as pd\n",
    "cursor_df = pd.read_sql(\"SELECT * FROM COMPANY\", con)\n",
    "\n",
    "### UPDATE: Actualizar un registro en la tabla COMPANY\n",
    "cur.execute(\"UPDATE COMPANY set SALARY = 25000.00 where ID = 1\")\n",
    "con.commit()\n",
    "\n",
    "### DELETE: Eliminar un registro de la tabla COMPANY\n",
    "cur.execute(\"DELETE from COMPANY where ID = 2\")\n",
    "con.commit()\n",
    "\n",
    "### Finalizar conexión a la base de datos\n",
    "cur.close()\n",
    "con.close()"
   ]
  },
  {
   "attachments": {},
   "cell_type": "markdown",
   "id": "f872c233",
   "metadata": {},
   "source": [
    "## Conexión a PostgreSQL\n",
    "\n",
    "Como tercera alternativa, para conectarse a PostgreSQL usando Python también existe una librería, `Psycopg2`. Es el *wrapper* más conocido y utilizado, aunque hay otros que también lo son. Este paquete mantiene la esencia de las sentencias de `PyMySQL`, requiriendo para su uso los objetos de conexión y de cursor. La conexión es también muy simple y podemos o bien crear una base de datos con Python o conectarnos directamente a ella a través del paquete.\n",
    "\n",
    "### Conexión a la base de datos\n",
    "\n",
    "El propio PostgreSQL nos permitirá crear una base de datos con simplemente pulsar a un botón e introducir un nombre. Luego, esta base de datos se puede referenciar al establecer la conexión. Si deseamos utilizar Python para crear una base de datos, simplemente omitiríamos el parámetro en la llamada, como se verá a continuación.\n",
    "\n",
    "#### 1. Base de datos ya creada con anterioridad\n",
    "\n",
    "En este caso introducimos la información como sigue para establecer la conexión."
   ]
  },
  {
   "cell_type": "code",
   "execution_count": null,
   "id": "8b160738",
   "metadata": {},
   "outputs": [],
   "source": [
    "import psycopg2\n",
    "\n",
    "con = psycopg2.connect(host = \"localhost\",\n",
    "    user = \"root\", \n",
    "    password = \"pass\",\n",
    "    db = \"my_database\", # Nombre de la tabla que si la hemos creado anteriormente\n",
    ")"
   ]
  },
  {
   "attachments": {},
   "cell_type": "markdown",
   "id": "cbe2893d",
   "metadata": {},
   "source": [
    "#### 2. Base de datos no creada\n",
    "\n",
    "En este caso simplemente eliminamos el argumento `db` de la llamada y ejecutamos la sentencia de creación. Para ello utilizamos la sentencia `cur.execute()` y `con.commit()`:"
   ]
  },
  {
   "cell_type": "code",
   "execution_count": null,
   "id": "4e28a381",
   "metadata": {},
   "outputs": [],
   "source": [
    "import psycopg2\n",
    "\n",
    "# Conectar al servidor PostgreSQL\n",
    "con = psycopg2.connect(\n",
    "    host=\"localhost\",\n",
    "    user=\"root\",\n",
    "    password=\"pass\"\n",
    ")\n",
    "\n",
    "# Crear un objeto cursor\n",
    "cur = con.cursor()\n",
    "\n",
    "# Crear una nueva base de datos\n",
    "cur.execute(\"CREATE DATABASE your_database_name\")\n",
    "con.commit()\n",
    "\n",
    "# Crear la tabla COMPANY\n",
    "cur.execute(\"\"\"CREATE TABLE COMPANY\n",
    "    (ID INT PRIMARY KEY NOT NULL,\n",
    "     NAME   TEXT        NOT NULL,\n",
    "     AGE    INT         NOT NULL,\n",
    "     ADDRESS VARCHAR(50),\n",
    "     SALARY REAL)\"\"\")\n",
    "\n",
    "con.commit()\n",
    "\n",
    "# Cerrar el cursor y la conexión\n",
    "cur.close()\n",
    "con.close()"
   ]
  },
  {
   "attachments": {},
   "cell_type": "markdown",
   "id": "0f21952e",
   "metadata": {},
   "source": [
    "### Uso de la base de datos\n",
    "\n",
    "La ejecución de las sentencias que ya conocemos sobre la base de datos es igual que en el caso de MySQL, con las funciones `cur.execute()` y `con.commit()`."
   ]
  },
  {
   "cell_type": "code",
   "execution_count": null,
   "id": "51578c90",
   "metadata": {},
   "outputs": [],
   "source": [
    "### INSERT: Insertar registros en la tabla COMPANY\n",
    "cur.execute(\"\"\"INSERT INTO COMPANY VALUES (1, 'Richard', 40, 'Spain', 20000.00)\"\"\")\n",
    "\n",
    "cur.execute(\"\"\"INSERT INTO COMPANY VALUES (2, 'Óscar', 25, 'France', 15000.00)\"\"\")\n",
    "con.commit()\n",
    "\n",
    "### SELECT: Filtrar de entre los valores de la base de datos\n",
    "cur.execute(\"SELECT * from COMPANY\")\n",
    "rows = cur.fetchall()\n",
    "for row in rows: # Itera por todas las filas del filtro resultante\n",
    "    print(f\"ID = {row[0]} NAME = {row[1]} ADDRESS = {row[2]} SALARY = {row[3]}\")\n",
    "con.commit()\n",
    "\n",
    "# También se pueden almacenar los resultados en un DataFrame usando Pandas\n",
    "import pandas as pd\n",
    "cursor_df = pd.read_sql_query(\"SELECT * FROM COMPANY\", con)\n",
    "\n",
    "### UPDATE: Actualizar un registro en la tabla COMPANY\n",
    "cur.execute(\"UPDATE COMPANY set SALARY = 25000.00 where ID = 1\")\n",
    "con.commit()\n",
    "\n",
    "### DELETE: Eliminar un registro de la tabla COMPANY\n",
    "cur.execute(\"DELETE from COMPANY where ID = 2\")\n",
    "con.commit()\n",
    "\n",
    "### Finalizar conexión a la base de datos\n",
    "cur.close()\n",
    "con.close()"
   ]
  },
  {
   "attachments": {},
   "cell_type": "markdown",
   "id": "6adce563",
   "metadata": {},
   "source": [
    "A pesar de que en esta lección se haya ejemplificado el código para los tres paquetes, es remarcable que la sintaxis es prácticamente igual, sobre todo para el caso de `PyMySQL` y `Psycopg2`. Estos códigos te servirán de guía para saber rápidamente cómo poder interactuar con las bases de datos relacionales más utilizadas en el mundo del análisis de los datos."
   ]
  }
 ],
 "metadata": {
  "kernelspec": {
   "display_name": "Python 3 (ipykernel)",
   "language": "python",
   "name": "python3"
  },
  "language_info": {
   "codemirror_mode": {
    "name": "ipython",
    "version": 3
   },
   "file_extension": ".py",
   "mimetype": "text/x-python",
   "name": "python",
   "nbconvert_exporter": "python",
   "pygments_lexer": "ipython3",
   "version": "3.9.7"
  }
 },
 "nbformat": 4,
 "nbformat_minor": 5
}
