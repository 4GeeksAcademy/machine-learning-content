{
 "cells": [
  {
   "attachments": {},
   "cell_type": "markdown",
   "id": "44c8bdf2",
   "metadata": {},
   "source": [
    "## File upload in Python"
   ]
  },
  {
   "attachments": {},
   "cell_type": "markdown",
   "id": "c4cea427",
   "metadata": {},
   "source": [
    "We are going to see code examples of how we can load different types of files. This code is not executable, since you would need to have the files in your working directory to run it. However, you can use it as a reference.\n",
    "\n",
    "### CSV\n",
    "\n",
    "A CSV file (*Comma-Separated Values*) is a file that allows to represent information in table format, where columns are usually separated by a comma (`,`) (although other characters are also supported) and rows by a line break.\n",
    "\n",
    "Normally, whenever we want to read a `CSV` we will need to load it in a Pandas DataFrame, so the following code would make it possible:"
   ]
  },
  {
   "cell_type": "code",
   "execution_count": null,
   "id": "03869974",
   "metadata": {},
   "outputs": [],
   "source": [
    "import pandas as pd\n",
    "\n",
    "# Set the path to the file you want to read\n",
    "file = \"input.csv\"\n",
    "\n",
    "# The 'read_csv' function allows this reading to be carried out, transforming the file into a DataFrame\n",
    "df = pd.read_csv(file, sep = \",\")"
   ]
  },
  {
   "attachments": {},
   "cell_type": "markdown",
   "id": "6c261bc5",
   "metadata": {},
   "source": [
    "The `read_csv` function of Pandas has a lot of parameters that allow you to adapt the reading to the characteristics of the file. You can find the documentation for this function [here](https://pandas.pydata.org/docs/reference/api/pandas.read_csv.html).\n",
    "\n",
    "### Excel (XLSX, XLS)\n",
    "\n",
    "A Microsoft Excel file (with XLSX or XLS extension) is itself a pure table definition, so it can also be transformed into a Pandas DataFrame:"
   ]
  },
  {
   "cell_type": "code",
   "execution_count": null,
   "id": "9f514574",
   "metadata": {},
   "outputs": [],
   "source": [
    "import pandas as pd\n",
    "\n",
    "# Set the path to the file you want to read\n",
    "file = \"input.xlsx\"\n",
    "\n",
    "# The 'read_excel' function allows this reading to be carried out, transforming the file into a DataFrame\n",
    "df = pd.read_excel(file, sheet_name = \"Sheet 1\")"
   ]
  },
  {
   "attachments": {},
   "cell_type": "markdown",
   "id": "21709f38",
   "metadata": {},
   "source": [
    "The `read_excel` function of Pandas has a lot of parameters that allow to adapt the reading to the characteristics of the file. You can find the documentation for this function [here](https://pandas.pydata.org/docs/reference/api/pandas.read_excel.html).\n",
    "\n",
    "### JSON\n",
    "\n",
    "A JSON file (*JavaScript Object Notation*) is a file format whose function is to transmit structured information. Its sorting logic has similar points to XML, but the notation is different. In a JSON file, the elements are hierarchical.\n",
    "\n",
    "This type of file can be read in several ways, since there is a direct relationship between Python dictionaries and this type of file. We can also transform it into a Pandas DataFrame if it has a regular structure.\n",
    "\n",
    "#### 1. File to dictionary\n",
    "\n",
    "Assume, for example, the following structure:\n",
    "\n",
    "```json\n",
    "{\n",
    "    \"filename\": \"invoice.pdf\",\n",
    "    \"numPages\": 3,\n",
    "    \"fields\": {\n",
    "        \"customerName\": \"Telefónica S.A.\",\n",
    "        \"invoiceNumber\": \"1234ABCD\",\n",
    "        \"totalAmount\": \"15.000\",\n",
    "        \"currency\": \"EUR\"\n",
    "    }\n",
    "}\n",
    "```\n",
    "\n",
    "This type of JSON element can only be transformed into a dictionary in Python.\n",
    "It does not make sense to read it as a Pandas DataFrame since it does not have a related structure, as we will see later. We could read this file with the `json` package of Python:\n"
   ]
  },
  {
   "cell_type": "code",
   "execution_count": null,
   "id": "ba1a54a6",
   "metadata": {},
   "outputs": [],
   "source": [
    "import json\n",
    "\n",
    "# Set the path to the file you want to read\n",
    "file = \"input.json\"\n",
    "\n",
    "with open(file, \"r\") as f:\n",
    "    data = json.load(f)"
   ]
  },
  {
   "attachments": {},
   "cell_type": "markdown",
   "id": "35953155",
   "metadata": {},
   "source": [
    "#### 2. File to DataFrame\n",
    "\n",
    "Suppose, for example, the following structure:\n",
    "\n",
    "```json\n",
    "{\n",
    "    \"files\": [\n",
    "        {\n",
    "            \"filename\": \"invoice1.pdf\",\n",
    "            \"numPages\": 3\n",
    "        },\n",
    "        {\n",
    "            \"filename\": \"invoice2.docx\",\n",
    "            \"numPages\": 10\n",
    "        },\n",
    "        {\n",
    "            \"filename\": \"invoice3.pdf\",\n",
    "            \"numPages\": 2\n",
    "        }\n",
    "    ],\n",
    "    \"status\": 200\n",
    "}\n",
    "```\n",
    "\n",
    "This JSON example replicates a response from a server after a query has been sent to it. Part of its content (actually the one we are interested in) has a table format structure, since each element of the list would represent a row, and each element (dictionary) would represent the column. Thus, we would transform it into DataFrame:"
   ]
  },
  {
   "cell_type": "code",
   "execution_count": null,
   "id": "c040ab11",
   "metadata": {},
   "outputs": [],
   "source": [
    "import pandas as pd\n",
    "\n",
    "# Set the path to the file you want to read\n",
    "file = \"input.json\"\n",
    "\n",
    "# First we read the JSON content\n",
    "with open(file, \"r\") as f:\n",
    "    data = json.load(f)\n",
    "\n",
    "# The function 'from_dict' allows us to perform the transformation from JSON to DataFrame\n",
    "df = pd.DataFrame.from_dict(data)"
   ]
  },
  {
   "attachments": {},
   "cell_type": "markdown",
   "id": "3692e08e",
   "metadata": {},
   "source": [
    "### TXT\n",
    "\n",
    "A TXT file (*TeXT*, TeXTo) is a flat file format containing structured or unstructured information. In this type of file, we can replicate CSVs, JSONs, etcetera. Therefore, the readings previously seen also apply to this type of files. To read this type of files, Python has a very simple way to do it:"
   ]
  },
  {
   "cell_type": "code",
   "execution_count": null,
   "id": "983e1941",
   "metadata": {},
   "outputs": [],
   "source": [
    "# Set the path to the file you want to read\n",
    "file = \"input.txt\"\n",
    "\n",
    "# We read the content of the TXT\n",
    "with open(file, \"r\") as f:\n",
    "    data = f.read()\n",
    "    data = f.readline(10)\n",
    "    data = f.readlines()"
   ]
  },
  {
   "attachments": {},
   "cell_type": "markdown",
   "id": "09bbb8e9",
   "metadata": {},
   "source": [
    "In the above example, three functions are used, each with a different result. Suppose the above file had the following contents:\n",
    "\n",
    "```text\n",
    "Hello, how are you?\n",
    "This file is an example document\n",
    "To read it through Python\n",
    "```\n",
    "\n",
    "#### `read()` function\n",
    "\n",
    "This function reads the entire contents of the file in string format, including line breaks such as \"\\n\". In the above example, the result would be:\n",
    "\n",
    "`\"Hello, how are you?\\nThis file is an example document\\nTo read it through Python\"`.\n",
    "\n",
    "#### `readline(10)` function\n",
    "\n",
    "This function reads the first `n` characters of the file. In the above example, the result would be:\n",
    "\n",
    "`\"Hello, how\"`.\n",
    "\n",
    "Since we pass a 10 as an argument to the function, it reads the first 10 characters.\n",
    "\n",
    "#### `readlines()` function\n",
    "\n",
    "This function reads all the content of the file separating the lines to return it in list format. In the above example, the result would be:\n",
    "\n",
    "`[\"Hello, how are you?\", \"This file is an example document\", \"To read it through Python\"]`"
   ]
  }
 ],
 "metadata": {
  "kernelspec": {
   "display_name": "Python 3.8.13 64-bit ('3.8.13')",
   "language": "python",
   "name": "python3"
  },
  "language_info": {
   "codemirror_mode": {
    "name": "ipython",
    "version": 3
   },
   "file_extension": ".py",
   "mimetype": "text/x-python",
   "name": "python",
   "nbconvert_exporter": "python",
   "pygments_lexer": "ipython3",
   "version": "3.8.13"
  },
  "vscode": {
   "interpreter": {
    "hash": "110cc1dee26208153f2972f08a2ad52b6a56238dc66d48e87fb757ef2996db56"
   }
  }
 },
 "nbformat": 4,
 "nbformat_minor": 5
}
